{
 "cells": [
  {
   "cell_type": "markdown",
   "metadata": {},
   "source": [
    "# List comprehensions\n",
    "---\n",
    "\n",
    "The idea of a list comprehension is to make code more compact to accomplish tasks involving lists. Take for example this code:\n",
    "\n",
    "```python\n",
    "years_of_birth = [1990, 1991, 1990, 1990, 1992, 1991]\n",
    "ages = []\n",
    "for year in years_of_birth: \n",
    "    ages.append(2017 - year)\n",
    "```\n",
    "\n",
    "And at the end, the variable ages has the list ```[24, 23, 24, 24, 22, 23]```. What this code did was translate the years of birth into ages, and it took us a for loop and an append statement to a new list to do that.\n",
    "\n",
    "Compare to this piece of code:\n",
    "```python\n",
    "years_of_birth = [1990, 1991, 1990, 1990, 1992, 1991]\n",
    "ages = [2014 - year for year in years_of_birth]\n",
    "```\n",
    "The second line here - the line with ages is a list comprehension.\n",
    "\n",
    "It accomplishes the same thing as the first code sample - at the end, the ages variable has a list containing ```[24, 23, 24, 24, 22, 23]```, the ages corresponding to all the birthdates.\n",
    "\n",
    "The idea of the list comprehension is to condense the *for loop* and the list appending into one simple line. Notice that the *for loop* just shifted to the end of the list comprehension, and the part before the for keyword is the thing to append to the end of the new list."
   ]
  },
  {
   "cell_type": "markdown",
   "metadata": {},
   "source": [
    "## Basic Structure of Python List Comprehension"
   ]
  },
  {
   "cell_type": "code",
   "execution_count": 1,
   "metadata": {},
   "outputs": [
    {
     "name": "stdout",
     "output_type": "stream",
     "text": [
      "[1, 3, 5]\n"
     ]
    }
   ],
   "source": [
    "reference = [1, 2, 3, 4, 5, 6]\n",
    "\n",
    "output = []\n",
    "\n",
    "for number in reference:\n",
    "    if number % 2 == 0:\n",
    "        output.append(number-1)  # append to the list\n",
    "\n",
    "        \n",
    "print output"
   ]
  },
  {
   "cell_type": "code",
   "execution_count": 2,
   "metadata": {},
   "outputs": [
    {
     "name": "stdout",
     "output_type": "stream",
     "text": [
      "[1, 3, 5]\n"
     ]
    }
   ],
   "source": [
    "output = [number-1 for number in reference if number % 2 == 0]\n",
    "\n",
    "\n",
    "print output"
   ]
  },
  {
   "cell_type": "markdown",
   "metadata": {},
   "source": [
    "![](https://cdn.journaldev.com/wp-content/uploads/2017/07/list-comprehension.png)\n",
    "\n",
    "The basic structure consist of three parameters. On basis of these three parameter, python generated a new list. The parameters are given in the list below:\n",
    "* Variable\n",
    "* Expression for output\n",
    "* Reference sequence\n",
    "* Predicate (Optional) "
   ]
  },
  {
   "cell_type": "code",
   "execution_count": 11,
   "metadata": {},
   "outputs": [
    {
     "name": "stdout",
     "output_type": "stream",
     "text": [
      "[1, 2, 3, 4, 5, 6, 'a', 'a']\n"
     ]
    }
   ],
   "source": [
    "non_flat = [[1,2,3], [4,5,6], [7,8]]\n",
    "\n",
    "output = []\n",
    "\n",
    "for x in non_flat:\n",
    "    for y in x:\n",
    "        if len(x) > 2:\n",
    "            output.append(y)\n",
    "        else:\n",
    "            output.append('a')\n",
    "\n",
    "\n",
    "print output"
   ]
  },
  {
   "cell_type": "code",
   "execution_count": 9,
   "metadata": {},
   "outputs": [
    {
     "data": {
      "text/plain": [
       "[1, 2, 3, 4, 5, 6, 'a', 'a']"
      ]
     },
     "execution_count": 9,
     "metadata": {},
     "output_type": "execute_result"
    }
   ],
   "source": [
    "[ y if len(x) > 2 else 'a' for x in non_flat for y in x ]"
   ]
  },
  {
   "cell_type": "markdown",
   "metadata": {},
   "source": [
    "## Making Nested List Comprehension\n",
    "\n",
    "However, you can also use nested List comprehension. That means, you can use a list comprehension inside another list comprehension."
   ]
  },
  {
   "cell_type": "code",
   "execution_count": 5,
   "metadata": {
    "collapsed": true
   },
   "outputs": [],
   "source": [
    "for x in non_flat:\n",
    "    for y in x:\n",
    "        y"
   ]
  },
  {
   "cell_type": "code",
   "execution_count": 6,
   "metadata": {},
   "outputs": [
    {
     "data": {
      "text/plain": [
       "[1, 2, 3, 4, 5, 6, 7, 8]"
      ]
     },
     "execution_count": 6,
     "metadata": {},
     "output_type": "execute_result"
    }
   ],
   "source": [
    "[y for x in non_flat for y in x]"
   ]
  },
  {
   "cell_type": "code",
   "execution_count": 7,
   "metadata": {},
   "outputs": [
    {
     "data": {
      "text/plain": [
       "[7, 7, 7, 8, 8, 8]"
      ]
     },
     "execution_count": 7,
     "metadata": {},
     "output_type": "execute_result"
    }
   ],
   "source": [
    "[y for y in x for x in non_flat]\n"
   ]
  },
  {
   "cell_type": "code",
   "execution_count": 12,
   "metadata": {},
   "outputs": [
    {
     "ename": "NameError",
     "evalue": "name 'append' is not defined",
     "output_type": "error",
     "traceback": [
      "\u001b[0;31m---------------------------------------------------------------------------\u001b[0m",
      "\u001b[0;31mNameError\u001b[0m                                 Traceback (most recent call last)",
      "\u001b[0;32m<ipython-input-12-43f186ee2599>\u001b[0m in \u001b[0;36m<module>\u001b[0;34m()\u001b[0m\n\u001b[1;32m      1\u001b[0m \u001b[0;32mfor\u001b[0m \u001b[0my\u001b[0m \u001b[0;32min\u001b[0m \u001b[0mx\u001b[0m\u001b[0;34m:\u001b[0m\u001b[0;34m\u001b[0m\u001b[0m\n\u001b[1;32m      2\u001b[0m     \u001b[0;32mfor\u001b[0m \u001b[0mx\u001b[0m \u001b[0;32min\u001b[0m \u001b[0mnon_flat\u001b[0m\u001b[0;34m:\u001b[0m\u001b[0;34m\u001b[0m\u001b[0m\n\u001b[0;32m----> 3\u001b[0;31m         \u001b[0mappend\u001b[0m\u001b[0;34m(\u001b[0m\u001b[0my\u001b[0m\u001b[0;34m)\u001b[0m\u001b[0;34m\u001b[0m\u001b[0m\n\u001b[0m",
      "\u001b[0;31mNameError\u001b[0m: name 'append' is not defined"
     ]
    }
   ],
   "source": [
    "for y in x:\n",
    "    for x in non_flat:\n",
    "        append(y)"
   ]
  },
  {
   "cell_type": "markdown",
   "metadata": {},
   "source": [
    "# ```lambda``` functions\n",
    "---\n",
    "Keyword ```lambda``` in python is used to create *anonymous functions*. \n",
    "\n",
    "Anonymous functions are those functions who are unnamed. That means you are defining a function without any name of the function.\n",
    "\n",
    "The following is a basic syntax of writing anonymous function using ```lambda```.\n",
    "```python\n",
    "lambda arguments: expression\n",
    "```\n",
    "\n",
    "Compare the above with function structure:\n",
    "```python\n",
    "def functionName( arguments ):\n",
    "\tstatements...\n",
    "\treturn something\n",
    "```\n",
    "\n",
    "Notice that, def is replaced by the keyword **lambda**, then there is no function name, after that arguments are as usual arguments.\n",
    "\n",
    "Function contains some statement then *may* return some value or not. But using **lambda**, it will contain an expression that will be returned.\n",
    "\n",
    "For example,"
   ]
  },
  {
   "cell_type": "code",
   "execution_count": 15,
   "metadata": {},
   "outputs": [
    {
     "name": "stdout",
     "output_type": "stream",
     "text": [
      "25\n"
     ]
    }
   ],
   "source": [
    "def squareof(x):\n",
    "    return x*x\n",
    "\n",
    "p = squareof(5)\n",
    "print p\n"
   ]
  },
  {
   "cell_type": "markdown",
   "metadata": {},
   "source": [
    "We can convert above function to python lambda function as follows:"
   ]
  },
  {
   "cell_type": "code",
   "execution_count": 8,
   "metadata": {},
   "outputs": [
    {
     "name": "stdout",
     "output_type": "stream",
     "text": [
      "25\n"
     ]
    }
   ],
   "source": [
    "f = lambda x: x*x\n",
    "\n",
    "p = f(5)\n",
    "print p"
   ]
  },
  {
   "cell_type": "markdown",
   "metadata": {},
   "source": [
    "Python **lambda** function will always return the output of the expression. \n",
    "\n",
    "The following is another example that takes two argument and return the greater one:"
   ]
  },
  {
   "cell_type": "code",
   "execution_count": 9,
   "metadata": {},
   "outputs": [
    {
     "name": "stdout",
     "output_type": "stream",
     "text": [
      "14\n"
     ]
    }
   ],
   "source": [
    "x = lambda a,b: a if a>b else b\n",
    "\n",
    "result = x(14,5)\n",
    "print result"
   ]
  },
  {
   "cell_type": "markdown",
   "metadata": {},
   "source": [
    "Python lambda function is helpful for map or filtering of any list.\n",
    "\n",
    "## Use of python ```lambda``` function in ```map()```\n",
    "\n",
    "We can also use lambda in ```map()```. \n",
    "\n",
    "* map is a function that takes two types of argument\n",
    "  * function\n",
    "  * list\n",
    "  \n",
    "```Docstring\n",
    "map(function, sequence[, sequence, ...]) -> list\n",
    "```\n",
    "* Return a list of the results of applying the function to the items of the argument sequence(s).\n",
    "* If more than one sequence is given, the function is called with an argument list consisting of the corresponding item of each sequence, substituting None for missing values when not all\n",
    "sequences have the same length.  \n",
    "* If the function is None, return a list of the items of the sequence (or a list of tuples if more than one sequence).\n",
    "* Type: builtin_function_or_method\n",
    "\n",
    "\n",
    "The following code is an example which finds the remainder of all the number by 5.\n"
   ]
  },
  {
   "cell_type": "code",
   "execution_count": 10,
   "metadata": {},
   "outputs": [
    {
     "name": "stdout",
     "output_type": "stream",
     "text": [
      "4\n",
      "0\n",
      "4\n",
      "3\n",
      "1\n",
      "1\n",
      "4\n"
     ]
    }
   ],
   "source": [
    "numbers = [ 74, 85, 14, 23, 56, 31,44 ]\n",
    "\n",
    "remainders = map(lambda num: num%5, numbers)\n",
    "for i in remainders:\n",
    "    print i"
   ]
  },
  {
   "cell_type": "markdown",
   "metadata": {},
   "source": [
    "## Python ```lambda``` function in ```filter()```\n",
    "\n",
    "```Docstring\n",
    "filter(function or None, sequence) -> list, tuple, or string\n",
    "```\n",
    "\n",
    "* Return those items of sequence for which function(item) is true.  If function is None, return the items that are true.  If sequence is a tuple or string, return the same type, else return a list.\n",
    "* Type: builtin_function_or_method\n",
    "\n",
    "If I want to filter from a list whether the values in the list are having length of 3. Notice that filter() is a function that takes two arguments. One is a function and the second one is a list of values. The following is the code for it:"
   ]
  },
  {
   "cell_type": "code",
   "execution_count": 11,
   "metadata": {},
   "outputs": [
    {
     "name": "stdout",
     "output_type": "stream",
     "text": [
      "sun\n",
      "mon\n",
      "wed\n"
     ]
    }
   ],
   "source": [
    "weekdays = ['sun', 'mon', 'tues', 'wed', 'thurs' 'fri']\n",
    "days = filter(lambda day: day if len(day)==3 else '', weekdays)\n",
    "for d in days:\n",
    "    print(d)"
   ]
  },
  {
   "cell_type": "markdown",
   "metadata": {},
   "source": [
    "In line 2, the function argument is an anonymous function, which takes arguments from the list of weekdays. And check whether the length of the value is equal to 3 or not. If 3 then return the value else nothing will be returned. And the output is according to what we wanted.\n",
    "\n",
    "Observe how the results are different if ```map()``` is used instead:"
   ]
  },
  {
   "cell_type": "code",
   "execution_count": 12,
   "metadata": {},
   "outputs": [
    {
     "name": "stdout",
     "output_type": "stream",
     "text": [
      "sun\n",
      "mon\n",
      "\n",
      "wed\n",
      "\n"
     ]
    }
   ],
   "source": [
    "weekdays = ['sun', 'mon', 'tues', 'wed', 'thurs' 'fri']\n",
    "days = map(lambda day: day if len(day)==3 else '', weekdays)\n",
    "for d in days:\n",
    "    print(d)"
   ]
  },
  {
   "cell_type": "markdown",
   "metadata": {},
   "source": [
    "# ```enumerate()``` function\n",
    "---\n",
    "\n",
    "Python enumerate takes a sequence, and then make each element of the sequence into a tuple. The first element of the tuple is the index number. And the second element of the tuple is the value of the sequence.\n",
    "\n",
    "So, in short, we can say that enumerate adds counter with the element of a sequence. The basic syntax of python enumerate is given below.\n",
    "\n",
    "* ```enumerate(sequence)```: This enumerate function make a enumerate object where index starts from 0.\n",
    "* ```enumerate(sequence, i)```: This makes an enumerate object where the index starts from ```i```.\n",
    "\n",
    "## Python Enumerate List\n",
    "\n",
    "In this section we will see example to create an enumerate object form a list or any other sequence. In the previous section, we learned about enumerate function which converts a sequence to enumerate object. Let's see the following example."
   ]
  },
  {
   "cell_type": "code",
   "execution_count": 22,
   "metadata": {},
   "outputs": [
    {
     "name": "stdout",
     "output_type": "stream",
     "text": [
      "The type of data is : <type 'list'>\n",
      "The type of data is now : <type 'enumerate'>\n"
     ]
    }
   ],
   "source": [
    "# initialize a list of list\n",
    "data = ['Love', 'Hate', 'Death', 123, ['Alice', 'Bob', 'Trudy']]\n",
    "\n",
    "# print the type of variable 'data'\n",
    "print 'The type of data is :', type(data) # output is 'list'\n",
    "\n",
    "data = enumerate(data)\n",
    "# again, print the type of variable 'data'\n",
    "print 'The type of data is now :', type(data)  # output is 'enumerate'"
   ]
  },
  {
   "cell_type": "markdown",
   "metadata": {},
   "source": [
    "## Accessing Python Enumerate Object\n",
    "\n",
    "We can access the enumerate object. We can use for loop to access the enumerate object. Or, we can convert the enumerate object to a list object. Then we can traverse the list. \n",
    "\n",
    "Let’s have a look to the following example to understand this."
   ]
  },
  {
   "cell_type": "code",
   "execution_count": 24,
   "metadata": {},
   "outputs": [
    {
     "name": "stdout",
     "output_type": "stream",
     "text": [
      "0 Love\n",
      "1 Hate\n",
      "2 Death\n",
      "3 123\n",
      "4 ['Alice', 'Bob', 'Trudy']\n"
     ]
    }
   ],
   "source": [
    "# initialize a list of list\n",
    "data = ['Love', 'Hate', 'Death', 123, ['Alice', 'Bob', 'Trudy']]\n",
    "\n",
    "# access the enumerate object using loop\n",
    "for index, element in enumerate(data):\n",
    "    print index,element "
   ]
  },
  {
   "cell_type": "code",
   "execution_count": 25,
   "metadata": {},
   "outputs": [
    {
     "name": "stdout",
     "output_type": "stream",
     "text": [
      "\n",
      "Start index is changed to 100:\n",
      "100 Love\n",
      "101 Hate\n",
      "102 Death\n",
      "103 123\n",
      "104 ['Alice', 'Bob', 'Trudy']\n"
     ]
    }
   ],
   "source": [
    "print '\\nStart index is changed to 100:' \n",
    "\n",
    "# change the start index of the list to 100\n",
    "# access the enumerate object using loop\n",
    "for index, element in enumerate(data,100):\n",
    "    print index,element "
   ]
  },
  {
   "cell_type": "markdown",
   "metadata": {},
   "source": [
    "So, that’s the basics of Python ```enumerate()``` function. "
   ]
  },
  {
   "cell_type": "markdown",
   "metadata": {},
   "source": [
    "# Exception Handling –  ```try ... expect```\n",
    "---\n",
    "\n",
    "Basically, exception means something that is not expected. In real life we are not interested to deal with exceptions. So there goes a proverb, “Exception is not an example”. But when we write programs, we have to think about exceptional cases. For example, if your user entered a string object while you were expecting an integer object as input, it will raise exception.\n",
    "\n",
    "Exception hampers normal program flows. If any exception happens, the programmer needs to handle that. Therefore, we are going to learn exception handling in upcoming sections."
   ]
  },
  {
   "cell_type": "markdown",
   "metadata": {},
   "source": [
    "## Some Built-in Python Exceptions\n",
    "\n",
    "List of some built-in python exceptions are given below.\n",
    "\n",
    "* Exception : This is the base class for all kind of the exceptions. All kind of exceptions should be derived from this class\n",
    "* ArithmeticError : This is the base class for the exception raised for any arithmetic errors.\n",
    "* EOFError : This exception raise when input() function read End-of-File without reading any data.\n",
    "* ZeroDivisionError : This exception raise when the second argument of a division or modulo operation is zero\n",
    "* AssertionError : This exception raise when an assert statement fails.\n",
    "* FloatingPointError : This exception raise when a floating point operation fails.\n",
    "* KeyError : This exception raise when a mapping (dictionary) key is not found in the set of existing keys.\n",
    "* KeyboardInterrupt : This exception raise when the user hits the interrupt key (normally Control-C or Delete). During execution, a check for interrupts is made regularly.\n",
    "\n",
    "Besides, you can find the list of all Built-in Exception in their official site https://docs.python.org/3/library/exceptions.html#built-in-exceptions "
   ]
  },
  {
   "cell_type": "code",
   "execution_count": 32,
   "metadata": {},
   "outputs": [
    {
     "ename": "IndexError",
     "evalue": "string index out of range",
     "output_type": "error",
     "traceback": [
      "\u001b[0;31m---------------------------------------------------------------------------\u001b[0m",
      "\u001b[0;31mIndexError\u001b[0m                                Traceback (most recent call last)",
      "\u001b[0;32m<ipython-input-32-e254c5a5a6fb>\u001b[0m in \u001b[0;36m<module>\u001b[0;34m()\u001b[0m\n\u001b[1;32m      1\u001b[0m \u001b[0mname\u001b[0m \u001b[0;34m=\u001b[0m \u001b[0;34m'General'\u001b[0m\u001b[0;34m\u001b[0m\u001b[0m\n\u001b[1;32m      2\u001b[0m \u001b[0;34m\u001b[0m\u001b[0m\n\u001b[0;32m----> 3\u001b[0;31m \u001b[0;32mprint\u001b[0m \u001b[0mname\u001b[0m\u001b[0;34m[\u001b[0m\u001b[0;36m15\u001b[0m\u001b[0;34m]\u001b[0m\u001b[0;34m\u001b[0m\u001b[0m\n\u001b[0m\u001b[1;32m      4\u001b[0m \u001b[0;34m\u001b[0m\u001b[0m\n\u001b[1;32m      5\u001b[0m \u001b[0;32mprint\u001b[0m \u001b[0;34m'This will not be printed.'\u001b[0m\u001b[0;34m\u001b[0m\u001b[0m\n",
      "\u001b[0;31mIndexError\u001b[0m: string index out of range"
     ]
    }
   ],
   "source": [
    "name = 'General'\n",
    "\n",
    "print name[15]\n",
    "\n",
    "print 'This will not be printed.'"
   ]
  },
  {
   "cell_type": "code",
   "execution_count": 31,
   "metadata": {},
   "outputs": [
    {
     "name": "stdout",
     "output_type": "stream",
     "text": [
      "IndexError has been found!\n",
      "This will always be printed.\n"
     ]
    }
   ],
   "source": [
    "name = 'General'\n",
    "try:\n",
    "    print(name[15])\n",
    "except IndexError:\n",
    "    print 'IndexError has been found!'\n",
    "\n",
    "print 'This will always be printed.'"
   ]
  },
  {
   "cell_type": "markdown",
   "metadata": {},
   "source": [
    "You can see from the above two examples that exception should be handled to avoid the program crash. In our first example, the last print statement was not executed because the program found exception before that. You can see that try expect keywords are used for exception handling.\n",
    "\n",
    "## Basic Structure of Python Exception Handling\n",
    "In the previous section, we demonstrate about how exception raised and how to handle that. In this section we will discuss about the basic coding structure for handling exceptions. Therefore, the basic coding structure for Python Exception Handling is given below.\n",
    "\n"
   ]
  },
  {
   "cell_type": "code",
   "execution_count": 37,
   "metadata": {},
   "outputs": [
    {
     "name": "stdout",
     "output_type": "stream",
     "text": [
      "Exception\n",
      "This will be printed.\n"
     ]
    }
   ],
   "source": [
    "name = 'general'\n",
    "try:\n",
    "    #Write the suspicious block of code\n",
    "    print(name[15])\n",
    "except AssertionError:  # Catch a single exception\n",
    "    # This block will be executed if exception A is caught\n",
    "    print 'AssertionError'\n",
    "except (EnvironmentError, SyntaxError, NameError) as E:  # catch multiple exception\n",
    "    # This block will be executed if any of the exception B, C or D is caught\n",
    "    print E \n",
    "except :\n",
    "    print 'Exception'\n",
    "    # This block will be executed if any other exception other than A, B, C or D is caught\n",
    "else:\n",
    "    # If no exception is caught, this block will be executed\n",
    "    pass\n",
    "finally:\n",
    "    # This block will be executed and it is a must!\n",
    "    pass\n",
    "\n",
    "# this line is not related to the try-except block\n",
    "print 'This will be printed.'"
   ]
  },
  {
   "cell_type": "markdown",
   "metadata": {},
   "source": [
    "Here you can see that, we use **```except```** keyword in different style. The first **```except```** keyword is used to catch only one exception that is ```AssertionError``` exception.\n",
    "\n",
    "However, the second **```except```** keyword is used to catch multiple exception, as you see.\n",
    "\n",
    "If you use except keyword without mentioning any specific exception, it will caught any exception that is raised by the program.\n",
    "\n",
    "The **```else```** block will be executed if no exception is found. Lastly, whether any exception is caught or not, the **```finally```** block will be executed."
   ]
  },
  {
   "cell_type": "markdown",
   "metadata": {},
   "source": [
    "# Exercises\n",
    "---"
   ]
  },
  {
   "cell_type": "markdown",
   "metadata": {},
   "source": [
    "### Question 1\n",
    "* Define a function max() that takes two numbers as arguments \n",
    "and returns the largest of them. Use the if-then-else construct \n",
    "available in Python. (It is true that Python has the max() function \n",
    "  built in, but writing it yourself is nevertheless a good exercise.)"
   ]
  },
  {
   "cell_type": "markdown",
   "metadata": {},
   "source": [
    "### Question 2\n",
    "* Define a function max_of_three() that takes three \n",
    "numbers as arguments and returns the largest of them."
   ]
  },
  {
   "cell_type": "markdown",
   "metadata": {},
   "source": [
    "### Question 3\n",
    "* Define a function that computes the length of a given list or string. (It is true that Python has the len() function built in, but writing it yourself is nevertheless a good exercise.)"
   ]
  },
  {
   "cell_type": "markdown",
   "metadata": {},
   "source": [
    "### Question 4\n",
    "* Write a function that takes a character (i.e. a \n",
    "string of length 1) and returns True if it is a vowel, \n",
    "False otherwise."
   ]
  },
  {
   "cell_type": "markdown",
   "metadata": {},
   "source": [
    "### Question 5\n",
    "* Write a function translate() that will translate a text \n",
    "into \"rovarspraket\" (Swedish for \"robber's language\"). \n",
    "That is, double every consonant and place an occurrence \n",
    "of \"o\" in between. For example, translate(\"this is fun\") \n",
    "should return the string \"tothohisos isos fofunon\"."
   ]
  },
  {
   "cell_type": "markdown",
   "metadata": {},
   "source": [
    "### Question 6\n",
    "* Define a function sum() and a function multiply() that \n",
    "sums and multiplies (respectively) all the numbers in a list \n",
    "of numbers. For example, sum([1, 2, 3, 4]) should return 10, \n",
    "and multiply([1, 2, 3, 4]) should return 24."
   ]
  },
  {
   "cell_type": "markdown",
   "metadata": {},
   "source": [
    "### Question 7\n",
    "* Define a function reverse() that computes the reversal \n",
    "of a string. For example, reverse(\"I am testing\") should \n",
    "return the string \"gnitset ma I\"."
   ]
  },
  {
   "cell_type": "markdown",
   "metadata": {},
   "source": [
    "### Question 8\n",
    "* Define a function is_palindrome() that recognizes \n",
    "palindromes (i.e. words that look the same written backwards). \n",
    "For example, is_palindrome(\"radar\") should return True."
   ]
  },
  {
   "cell_type": "markdown",
   "metadata": {},
   "source": [
    "### Question 9\n",
    "* Write a function is_member() that takes a value \n",
    "i.e. a number, string, etc) x and a list of values a, \n",
    "and returns True if x is a member of a, False otherwise. \n",
    "(Note that this is exactly what the in operator does, but \n",
    "  for the sake of the exercise you should pretend Python \n",
    "  did not have this operator.)"
   ]
  },
  {
   "cell_type": "markdown",
   "metadata": {},
   "source": [
    "### Question 10\n",
    "* Define a function overlapping() that takes two lists and \n",
    "returns True if they have at least one member in common, \n",
    "False otherwise. You may use your is_member() function, \n",
    "or the in operator, but for the sake of the exercise, \n",
    "you should (also) write it using two nested for-loops."
   ]
  },
  {
   "cell_type": "markdown",
   "metadata": {},
   "source": [
    "### Question 11\n",
    "* Define a function generate_n_chars() that takes an \n",
    "integer n and a character c and returns a string, n \n",
    "characters long, consisting only of c:s. For example, \n",
    "generate_n_chars(5,\"x\") should return the string \"xxxxx\". \n",
    "(Python is unusual in that you can actually write an expression 5 * \"x\" \n",
    "that will evaluate to \"xxxxx\". For the sake of the exercise you should \n",
    "ignore that the problem can be solved in this manner.)"
   ]
  },
  {
   "cell_type": "markdown",
   "metadata": {},
   "source": [
    "## Question 12\n",
    "* Define a procedure histogram() that takes a list of \n",
    "integers and prints a histogram to the screen. For example, \n",
    "histogram([4, 9, 7]) should print the following:\n",
    "\n",
    "```\n",
    "****\n",
    "*********\n",
    "*******\n",
    "```"
   ]
  },
  {
   "cell_type": "code",
   "execution_count": 20,
   "metadata": {},
   "outputs": [
    {
     "name": "stdout",
     "output_type": "stream",
     "text": [
      "4\n",
      "9\n",
      "7\n",
      "9\n",
      "2\n"
     ]
    }
   ],
   "source": [
    "def histogram(no_list):\n",
    "    for i in no_list:\n",
    "        print i #* '*'\n",
    "        \n",
    "            \n",
    "histogram([4,9,7,9,2])\n",
    "n = "
   ]
  },
  {
   "cell_type": "markdown",
   "metadata": {},
   "source": [
    "### Question 13\n",
    "\n",
    "* The function max() from Question 1) and the function \n",
    "max_of_three() from Question 2) will only work for two \n",
    "and three numbers, respectively. But suppose we have a \n",
    "much larger number of numbers, or suppose we cannot tell \n",
    "in advance how many they are? Write a function max_in_list() \n",
    "that takes a list of numbers and returns the largest one."
   ]
  },
  {
   "cell_type": "markdown",
   "metadata": {},
   "source": [
    "### Question 14\n",
    "\n",
    "* Write a program that maps a list of words into a list \n",
    "of integers representing the lengths of the correponding words."
   ]
  },
  {
   "cell_type": "markdown",
   "metadata": {},
   "source": [
    "### Question 15\n",
    "* Write a function find_longest_word() that takes \n",
    "a list of words and returns the length of the longest one."
   ]
  },
  {
   "cell_type": "markdown",
   "metadata": {},
   "source": [
    "### Question 16\n",
    "\n",
    "* Write a function filter_long_words() that takes a list \n",
    "of words and an integer n and returns the list of words that \n",
    "are longer than n."
   ]
  },
  {
   "cell_type": "markdown",
   "metadata": {},
   "source": [
    "### Question 17\n",
    "* Write a version of a palindrome recognizer that also accepts \n",
    "phrase palindromes such as \"Go hang a salami I'm a lasagna hog.\", \n",
    "\"Was it a rat I saw?\", \"Step on no pets\", \"Sit on a potato pan, Otis\", \n",
    "\"Lisa Bonet ate no basil\", \"Satan, oscillate my metallic sonatas\", \n",
    "\"I roamed under it as a tired nude Maori\", \"Rise to vote sir\", or \n",
    "the exclamation \"Dammit, I'm mad!\". Note that punctuation, capitalization, \n",
    "and spacing are usually ignored."
   ]
  },
  {
   "cell_type": "markdown",
   "metadata": {},
   "source": [
    "### Question 18\n",
    "* A pangram is a sentence that contains all the letters \n",
    "of the English alphabet at least once, for example: The \n",
    "quick brown fox jumps over the lazy dog. Your task here is \n",
    "to write a function to check a sentence to see if it is a \n",
    "pangram or not."
   ]
  },
  {
   "cell_type": "markdown",
   "metadata": {},
   "source": [
    "### Question 19\n",
    "* 99 Bottles of Beer\" is a traditional song in the United States and \n",
    "Canada. It is popular to sing on long trips, as it has a very repetitive \n",
    "format which is easy to memorize, and can take a long time to sing. \n",
    "The song's simple lyrics are as follows:\n",
    "\n",
    "* 99 bottles of beer on the wall, 99 bottles of beer.\n",
    "Take one down, pass it around, 98 bottles of beer on the wall.\n",
    "\n",
    "* The same verse is repeated, each time with one fewer bottle. \n",
    "The song is completed when the singer or singers reach zero.\n",
    "\n",
    "* Your task here is write a Python program capable of generating \n",
    "all the verses of the song."
   ]
  },
  {
   "cell_type": "markdown",
   "metadata": {},
   "source": [
    "### Question 20\n",
    "* Represent a small bilingual lexicon as a Python dictionary in the \n",
    "following fashion {\"merry\":\"god\", \"christmas\":\"jul\", \"and\":\"och\", \n",
    "\"happy\":gott\", \"new\":\"nytt\", \"year\":\"ar\"} and use it to translate \n",
    "your Christmas cards from English into Swedish. That is, write a \n",
    "function translate() that takes a list of English words and returns \n",
    "a list of Swedish words."
   ]
  },
  {
   "cell_type": "markdown",
   "metadata": {},
   "source": [
    "### Question 21\n",
    "\n",
    "* Write a function char_freq() that takes a string and builds \n",
    "a frequency listing of the characters contained in it. Represent \n",
    "the frequency listing as a Python dictionary. Try it with something \n",
    "like char_freq(\"abbabcbdbabdbdbabababcbcbab\")."
   ]
  },
  {
   "cell_type": "markdown",
   "metadata": {},
   "source": [
    "### Question 22\n",
    "\n",
    "* In cryptography, a Caesar cipher is a very simple encryption \n",
    "techniques in which each letter in the plain text is replaced \n",
    "by a letter some fixed number of positions down the alphabet. \n",
    "For example, with a shift of 3, A would be replaced by D, B would \n",
    "become E, and so on. The method is named after Julius Caesar, who \n",
    "used it to communicate with his generals. ROT-13 (\"rotate by 13 places\") \n",
    "is a widely used example of a Caesar cipher where the shift is 13. \n",
    "In Python, the key for ROT-13 may be represented by means of the \n",
    "following dictionary:\n",
    "\n",
    "```\n",
    "key = {'a':'n', 'b':'o', 'c':'p', 'd':'q', 'e':'r', 'f':'s', 'g':'t', 'h':'u', \n",
    "       'i':'v', 'j':'w', 'k':'x', 'l':'y', 'm':'z', 'n':'a', 'o':'b', 'p':'c', \n",
    "       'q':'d', 'r':'e', 's':'f', 't':'g', 'u':'h', 'v':'i', 'w':'j', 'x':'k',\n",
    "       'y':'l', 'z':'m', 'A':'N', 'B':'O', 'C':'P', 'D':'Q', 'E':'R', 'F':'S', \n",
    "       'G':'T', 'H':'U', 'I':'V', 'J':'W', 'K':'X', 'L':'Y', 'M':'Z', 'N':'A', \n",
    "       'O':'B', 'P':'C', 'Q':'D', 'R':'E', 'S':'F', 'T':'G', 'U':'H', 'V':'I', \n",
    "       'W':'J', 'X':'K', 'Y':'L', 'Z':'M'}\n",
    "```\n",
    "Your task in this exercise is to implement an encoder/decoder of \n",
    "ROT-13. Once you're done, you will be able to read the following \n",
    "secret message:\n",
    "\n",
    "   Pnrfne pvcure? V zhpu cersre Pnrfne fnynq!\n",
    "Note that since English has 26 characters, your ROT-13 program \n",
    "will be able to both encode and decode texts written in English."
   ]
  },
  {
   "cell_type": "markdown",
   "metadata": {},
   "source": [
    "### Question 23\n",
    "\n",
    "* Define a simple \"spelling correction\" function correct() that \n",
    "takes a string and sees to it that 1) two or more occurrences of \n",
    "the space character is compressed into one, and 2) inserts an extra \n",
    "space after a period if the period is directly followed by a letter. \n",
    "E.g. correct(\"This   is  very funny  and    cool.Indeed!\") should \n",
    "return \"This is very funny and cool. Indeed!\" Tip: Use regular \n",
    "expressions!"
   ]
  },
  {
   "cell_type": "markdown",
   "metadata": {},
   "source": [
    "### Question 24\n",
    "\n",
    "* The third person singular verb form in English is distinguished \n",
    "by the suffix -s, which is added to the stem of the infinitive form: \n",
    "run -> runs. A simple set of rules can be given as follows:\n",
    "\n",
    "* If the verb ends in y, remove it and add ies\n",
    "If the verb ends in o, ch, s, sh, x or z, add es\n",
    "By default just add s\n",
    "* Your task in this exercise is to define a function make_3sg_form() \n",
    "which given a verb in infinitive form returns its third person singular \n",
    "form. Test your function with words like try, brush, run and fix. \n",
    "Note however that the rules must be regarded as heuristic, in the \n",
    "sense that you must not expect them to work for all cases. Tip: Check \n",
    "out the string method endswith()."
   ]
  },
  {
   "cell_type": "markdown",
   "metadata": {},
   "source": [
    "### Question 25\n",
    "* In English, the present participle is formed by adding the suffix -ing \n",
    "to the infinite form: go -> going. A simple set of heuristic rules can be \n",
    "given as follows:\n",
    "\n",
    "* If the verb ends in e, drop the e and add ing (if not exception: be, see, \n",
    "  flee, knee, etc.)\n",
    "* If the verb ends in ie, change ie to y and add ing\n",
    "* For words consisting of consonant-vowel-consonant, double the final letter \n",
    "before adding ing\n",
    "* By default just add ing\n",
    "* Your task in this exercise is to define a function make_ing_form() which \n",
    "given a verb in infinitive form returns its present participle form. Test \n",
    "your function with words such as lie, see, move and hug. However, you must \n",
    "not expect such simple rules to work for all cases."
   ]
  },
  {
   "cell_type": "markdown",
   "metadata": {},
   "source": [
    "### Question 26\n",
    "\n",
    "* Using the higher order function reduce(), write a function max_in_list() \n",
    "that takes a list of numbers and returns the largest one. Then ask yourself:\n",
    "why define and call a new function, when I can just as well call the reduce() \n",
    "function directly?"
   ]
  },
  {
   "cell_type": "markdown",
   "metadata": {},
   "source": [
    "### Question 27\n",
    "* Write a program that maps a list of words into a list of integers \n",
    "representing the lengths of the correponding words. Write it in three \n",
    "different ways: 1) using a for-loop, 2) using the higher order function \n",
    "map(), and 3) using list comprehensions."
   ]
  },
  {
   "cell_type": "markdown",
   "metadata": {},
   "source": [
    "### Question 28\n",
    "* Write a function find_longest_word() that takes a list of words and \n",
    "returns the length of the longest one. Use only higher order functions."
   ]
  },
  {
   "cell_type": "markdown",
   "metadata": {},
   "source": [
    "### Question 29\n",
    "* Using the higher order function filter(), define a function \n",
    "filter_long_words() that takes a list of words and an integer n \n",
    "and returns the list of words that are longer than n."
   ]
  },
  {
   "cell_type": "markdown",
   "metadata": {},
   "source": [
    "### Question 30\n",
    "\n",
    "* Represent a small bilingual lexicon as a Python dictionary in the \n",
    "following fashion {\"merry\":\"god\", \"christmas\":\"jul\", \"and\":\"och\", \n",
    "\"happy\":gott\", \"new\":\"nytt\", \"year\":\"år\"} and use it to translate your \n",
    "Christmas cards from English into Swedish. Use the higher order function \n",
    "map() to write a function translate() that takes a list of English words \n",
    "and returns a list of Swedish words."
   ]
  },
  {
   "cell_type": "code",
   "execution_count": null,
   "metadata": {
    "collapsed": true
   },
   "outputs": [],
   "source": []
  }
 ],
 "metadata": {
  "kernelspec": {
   "display_name": "Python 2",
   "language": "python",
   "name": "python2"
  },
  "language_info": {
   "codemirror_mode": {
    "name": "ipython",
    "version": 2
   },
   "file_extension": ".py",
   "mimetype": "text/x-python",
   "name": "python",
   "nbconvert_exporter": "python",
   "pygments_lexer": "ipython2",
   "version": "2.7.13"
  }
 },
 "nbformat": 4,
 "nbformat_minor": 1
}
