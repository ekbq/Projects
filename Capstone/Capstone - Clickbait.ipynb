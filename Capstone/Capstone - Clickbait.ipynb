{
 "cells": [
  {
   "cell_type": "markdown",
   "metadata": {
    "slideshow": {
     "slide_type": "slide"
    }
   },
   "source": [
    "# DSI Capstone Project - _'To Click Or Not To Click, That Is The Question'_\n",
    "\n",
    "### by Ezekiel Kuang"
   ]
  },
  {
   "cell_type": "code",
   "execution_count": 64,
   "metadata": {
    "slideshow": {
     "slide_type": "slide"
    }
   },
   "outputs": [
    {
     "data": {
      "text/html": [
       "<img src=\"https://cdn01.vulcanpost.com/wp-uploads/2016/08/clickbait1.jpg\" width=\"1000\" height=\"1000\"/>"
      ],
      "text/plain": [
       "<IPython.core.display.Image object>"
      ]
     },
     "execution_count": 64,
     "metadata": {},
     "output_type": "execute_result"
    }
   ],
   "source": [
    "from IPython.display import Image\n",
    "Image(url= \"https://cdn01.vulcanpost.com/wp-uploads/2016/08/clickbait1.jpg\", width=1000, height=1000)"
   ]
  },
  {
   "cell_type": "markdown",
   "metadata": {},
   "source": [
    "___"
   ]
  },
  {
   "cell_type": "markdown",
   "metadata": {
    "slideshow": {
     "slide_type": "slide"
    }
   },
   "source": [
    "## Executive Summary\n",
    "\n",
    "<p><li type=\"disc\">In the digital era, anyone can write and publish content online. Content proliferation has led to a rampant increase in the amount of clickbait, whose main purpose is to attract attention and encourage visitors to click on a link to a particular web page.</li></p>\n",
    "\n",
    "<p><li type=\"disc\">The goal of my project was to find out whether a particular article was clickbait or not, without having to read through the article manually.</li></p>\n",
    "\n",
    "<p><li type=\"disc\">Using a corpus of annotated articles provided by the Bauhaus-Universität Weimar in Germany, success would be measured by how accurate it would predict clickbait articles given the prior condition that they were indeed clickbait. </li></p>\n",
    "\n",
    "<p><li type=\"disc\">My findings suggest that simplistic classifiers could do most of the heavy lifting. The use of an LSTM RNN model could help to further increase its scores, but overtraining the model could lead to poor scores if it is used to predict a brand new corpus of text. </li></p>\n",
    "\n",
    "<p><li type=\"disc\">In the course of doing this project, I am conscious of the fact that this is a very small dataset of ~20,000 articles and contains barely enough words in the corpus to train the model to a satisfactory level. Obtaining a larger corpus is limited by the fact that each article requires manual annotation (for clickbait or non-clickbait), but it would certainly have helped if the model had a wider range of words to learn from.</li></p>\n",
    "\n"
   ]
  },
  {
   "cell_type": "markdown",
   "metadata": {},
   "source": [
    "___"
   ]
  },
  {
   "cell_type": "markdown",
   "metadata": {
    "slideshow": {
     "slide_type": "slide"
    }
   },
   "source": [
    "## A Brief Outline of the Steps Involved\n",
    "\n",
    "1. Data Preprocessing\n",
    "2. Model Selection and Implementation\n",
    "3. Comparison of Results"
   ]
  },
  {
   "cell_type": "markdown",
   "metadata": {},
   "source": [
    "___"
   ]
  },
  {
   "cell_type": "markdown",
   "metadata": {
    "slideshow": {
     "slide_type": "slide"
    }
   },
   "source": [
    "<div class=\"alert alert-block alert-info\"><h2>Data Preprocessing </h2></div>"
   ]
  },
  {
   "cell_type": "markdown",
   "metadata": {
    "slideshow": {
     "slide_type": "subslide"
    }
   },
   "source": [
    "### Import necessary packages"
   ]
  },
  {
   "cell_type": "code",
   "execution_count": 65,
   "metadata": {
    "slideshow": {
     "slide_type": "subslide"
    }
   },
   "outputs": [
    {
     "name": "stdout",
     "output_type": "stream",
     "text": [
      "CPU times: user 3 µs, sys: 1 µs, total: 4 µs\n",
      "Wall time: 7.87 µs\n"
     ]
    }
   ],
   "source": [
    "import numpy as np\n",
    "import pandas as pd\n",
    "import seaborn as sns\n",
    "import matplotlib.pyplot as plt\n",
    "import sys\n",
    "import pickle\n",
    "\n",
    "from nltk.tokenize import sent_tokenize, word_tokenize\n",
    "\n",
    "from sklearn.feature_extraction.text import CountVectorizer, TfidfTransformer, TfidfVectorizer\n",
    "from sklearn.model_selection import train_test_split, cross_val_score, cross_val_predict\n",
    "from sklearn.metrics import accuracy_score, precision_score, confusion_matrix, classification_report\n",
    "from sklearn.linear_model import LogisticRegression\n",
    "from sklearn.naive_bayes import MultinomialNB\n",
    "from sklearn.pipeline import Pipeline\n",
    "from sklearn.metrics import roc_curve, auc, average_precision_score, roc_auc_score\n",
    "from sklearn.naive_bayes import MultinomialNB, BernoulliNB, GaussianNB\n",
    "\n",
    "\n",
    "%matplotlib inline \n",
    "%time"
   ]
  },
  {
   "cell_type": "code",
   "execution_count": 66,
   "metadata": {
    "collapsed": true,
    "slideshow": {
     "slide_type": "subslide"
    }
   },
   "outputs": [],
   "source": [
    "# There are two JSONL files provided, import them to see what they look like\n",
    "\n",
    "instances = pd.read_json('instances.jsonl', encoding='utf8', lines=True)\n",
    "truth = pd.read_json('truth.jsonl', encoding='utf8', lines=True)"
   ]
  },
  {
   "cell_type": "code",
   "execution_count": 67,
   "metadata": {
    "slideshow": {
     "slide_type": "subslide"
    }
   },
   "outputs": [
    {
     "data": {
      "text/html": [
       "<div>\n",
       "<style>\n",
       "    .dataframe thead tr:only-child th {\n",
       "        text-align: right;\n",
       "    }\n",
       "\n",
       "    .dataframe thead th {\n",
       "        text-align: left;\n",
       "    }\n",
       "\n",
       "    .dataframe tbody tr th {\n",
       "        vertical-align: top;\n",
       "    }\n",
       "</style>\n",
       "<table border=\"1\" class=\"dataframe\">\n",
       "  <thead>\n",
       "    <tr style=\"text-align: right;\">\n",
       "      <th></th>\n",
       "      <th>id</th>\n",
       "      <th>postMedia</th>\n",
       "      <th>postText</th>\n",
       "      <th>postTimestamp</th>\n",
       "      <th>targetCaptions</th>\n",
       "      <th>targetDescription</th>\n",
       "      <th>targetKeywords</th>\n",
       "      <th>targetParagraphs</th>\n",
       "      <th>targetTitle</th>\n",
       "    </tr>\n",
       "  </thead>\n",
       "  <tbody>\n",
       "    <tr>\n",
       "      <th>0</th>\n",
       "      <td>858462320779026432</td>\n",
       "      <td>[]</td>\n",
       "      <td>[UK’s response to modern slavery leaving victi...</td>\n",
       "      <td>Sat Apr 29 23:25:41 +0000 2017</td>\n",
       "      <td>[modern-slavery-rex.jpg]</td>\n",
       "      <td>“Inexcusable” failures in the UK’s system for ...</td>\n",
       "      <td>modern slavery, Department For Work And Pensio...</td>\n",
       "      <td>[Thousands of modern slavery victims have not ...</td>\n",
       "      <td>‘Inexcusable’ failures in UK’s response to mod...</td>\n",
       "    </tr>\n",
       "    <tr>\n",
       "      <th>1</th>\n",
       "      <td>858421020331560960</td>\n",
       "      <td>[]</td>\n",
       "      <td>[this is good]</td>\n",
       "      <td>Sat Apr 29 20:41:34 +0000 2017</td>\n",
       "      <td>[In this July 1, 2010 file photo, Dr. Charmain...</td>\n",
       "      <td>President Donald Trump has appointed pro-life ...</td>\n",
       "      <td>Americans United for Life, Dr. Charmaine Yoest...</td>\n",
       "      <td>[President Donald Trump has appointed the pro-...</td>\n",
       "      <td>Donald Trump Appoints Pro-Life Advocate as Ass...</td>\n",
       "    </tr>\n",
       "    <tr>\n",
       "      <th>2</th>\n",
       "      <td>858368123753435136</td>\n",
       "      <td>[]</td>\n",
       "      <td>[The \"forgotten\" Trump roast: Relive his bruta...</td>\n",
       "      <td>Sat Apr 29 17:11:23 +0000 2017</td>\n",
       "      <td>[President Trump will not attend this year's W...</td>\n",
       "      <td>President Trump won't be at this year's White ...</td>\n",
       "      <td>trump whcd, whcd, white house correspondents d...</td>\n",
       "      <td>[When the White House correspondents’ dinner i...</td>\n",
       "      <td>The ‘forgotten’ Trump roast: Relive his brutal...</td>\n",
       "    </tr>\n",
       "    <tr>\n",
       "      <th>3</th>\n",
       "      <td>858323428260139008</td>\n",
       "      <td>[]</td>\n",
       "      <td>[Meet the happiest #dog in the world!]</td>\n",
       "      <td>Sat Apr 29 14:13:46 +0000 2017</td>\n",
       "      <td>[Maru , Maru, Maru, Maru, Maru]</td>\n",
       "      <td>The article is about Maru, a husky dog who has...</td>\n",
       "      <td>Maru, husky, dogs, pandas, furball, instagram</td>\n",
       "      <td>[Adorable is probably an understatement. This ...</td>\n",
       "      <td>Meet The Happiest Dog In The World, Maru The H...</td>\n",
       "    </tr>\n",
       "    <tr>\n",
       "      <th>4</th>\n",
       "      <td>858283602626347008</td>\n",
       "      <td>[]</td>\n",
       "      <td>[Tokyo's subway is shut down amid fears over a...</td>\n",
       "      <td>Sat Apr 29 11:35:31 +0000 2017</td>\n",
       "      <td>[All nine lines of Tokyo's subway system were ...</td>\n",
       "      <td>The temporary suspension, which lasted ten min...</td>\n",
       "      <td>Tokyo,subway,shut,fears,North,Korean,attack</td>\n",
       "      <td>[One of Tokyo's major subways systems says it ...</td>\n",
       "      <td>Tokyo's subway is shut down amid fears over an...</td>\n",
       "    </tr>\n",
       "  </tbody>\n",
       "</table>\n",
       "</div>"
      ],
      "text/plain": [
       "                   id postMedia  \\\n",
       "0  858462320779026432        []   \n",
       "1  858421020331560960        []   \n",
       "2  858368123753435136        []   \n",
       "3  858323428260139008        []   \n",
       "4  858283602626347008        []   \n",
       "\n",
       "                                            postText  \\\n",
       "0  [UK’s response to modern slavery leaving victi...   \n",
       "1                                     [this is good]   \n",
       "2  [The \"forgotten\" Trump roast: Relive his bruta...   \n",
       "3             [Meet the happiest #dog in the world!]   \n",
       "4  [Tokyo's subway is shut down amid fears over a...   \n",
       "\n",
       "                    postTimestamp  \\\n",
       "0  Sat Apr 29 23:25:41 +0000 2017   \n",
       "1  Sat Apr 29 20:41:34 +0000 2017   \n",
       "2  Sat Apr 29 17:11:23 +0000 2017   \n",
       "3  Sat Apr 29 14:13:46 +0000 2017   \n",
       "4  Sat Apr 29 11:35:31 +0000 2017   \n",
       "\n",
       "                                      targetCaptions  \\\n",
       "0                           [modern-slavery-rex.jpg]   \n",
       "1  [In this July 1, 2010 file photo, Dr. Charmain...   \n",
       "2  [President Trump will not attend this year's W...   \n",
       "3                    [Maru , Maru, Maru, Maru, Maru]   \n",
       "4  [All nine lines of Tokyo's subway system were ...   \n",
       "\n",
       "                                   targetDescription  \\\n",
       "0  “Inexcusable” failures in the UK’s system for ...   \n",
       "1  President Donald Trump has appointed pro-life ...   \n",
       "2  President Trump won't be at this year's White ...   \n",
       "3  The article is about Maru, a husky dog who has...   \n",
       "4  The temporary suspension, which lasted ten min...   \n",
       "\n",
       "                                      targetKeywords  \\\n",
       "0  modern slavery, Department For Work And Pensio...   \n",
       "1  Americans United for Life, Dr. Charmaine Yoest...   \n",
       "2  trump whcd, whcd, white house correspondents d...   \n",
       "3      Maru, husky, dogs, pandas, furball, instagram   \n",
       "4        Tokyo,subway,shut,fears,North,Korean,attack   \n",
       "\n",
       "                                    targetParagraphs  \\\n",
       "0  [Thousands of modern slavery victims have not ...   \n",
       "1  [President Donald Trump has appointed the pro-...   \n",
       "2  [When the White House correspondents’ dinner i...   \n",
       "3  [Adorable is probably an understatement. This ...   \n",
       "4  [One of Tokyo's major subways systems says it ...   \n",
       "\n",
       "                                         targetTitle  \n",
       "0  ‘Inexcusable’ failures in UK’s response to mod...  \n",
       "1  Donald Trump Appoints Pro-Life Advocate as Ass...  \n",
       "2  The ‘forgotten’ Trump roast: Relive his brutal...  \n",
       "3  Meet The Happiest Dog In The World, Maru The H...  \n",
       "4  Tokyo's subway is shut down amid fears over an...  "
      ]
     },
     "execution_count": 67,
     "metadata": {},
     "output_type": "execute_result"
    }
   ],
   "source": [
    "instances.head()"
   ]
  },
  {
   "cell_type": "markdown",
   "metadata": {},
   "source": [
    "### There are many columns in 'instances', but the one column I am most interested in is 'targetParagraphs', which contains the full article text"
   ]
  },
  {
   "cell_type": "code",
   "execution_count": 68,
   "metadata": {},
   "outputs": [
    {
     "data": {
      "text/html": [
       "<div>\n",
       "<style>\n",
       "    .dataframe thead tr:only-child th {\n",
       "        text-align: right;\n",
       "    }\n",
       "\n",
       "    .dataframe thead th {\n",
       "        text-align: left;\n",
       "    }\n",
       "\n",
       "    .dataframe tbody tr th {\n",
       "        vertical-align: top;\n",
       "    }\n",
       "</style>\n",
       "<table border=\"1\" class=\"dataframe\">\n",
       "  <thead>\n",
       "    <tr style=\"text-align: right;\">\n",
       "      <th></th>\n",
       "      <th>id</th>\n",
       "      <th>truthClass</th>\n",
       "      <th>truthJudgments</th>\n",
       "      <th>truthMean</th>\n",
       "      <th>truthMedian</th>\n",
       "      <th>truthMode</th>\n",
       "    </tr>\n",
       "  </thead>\n",
       "  <tbody>\n",
       "    <tr>\n",
       "      <th>0</th>\n",
       "      <td>858464162594172928</td>\n",
       "      <td>clickbait</td>\n",
       "      <td>[1.0, 1.0, 1.0, 1.0, 1.0]</td>\n",
       "      <td>1.000000</td>\n",
       "      <td>1.000000</td>\n",
       "      <td>1.000000</td>\n",
       "    </tr>\n",
       "    <tr>\n",
       "      <th>1</th>\n",
       "      <td>858462320779026432</td>\n",
       "      <td>no-clickbait</td>\n",
       "      <td>[0.3333333333, 0.0, 0.3333333333, 0.0, 0.0]</td>\n",
       "      <td>0.133333</td>\n",
       "      <td>0.000000</td>\n",
       "      <td>0.000000</td>\n",
       "    </tr>\n",
       "    <tr>\n",
       "      <th>2</th>\n",
       "      <td>858460992073863168</td>\n",
       "      <td>no-clickbait</td>\n",
       "      <td>[0.3333333333, 0.6666666666, 1.0, 0.0, 0.0]</td>\n",
       "      <td>0.400000</td>\n",
       "      <td>0.333333</td>\n",
       "      <td>0.000000</td>\n",
       "    </tr>\n",
       "    <tr>\n",
       "      <th>3</th>\n",
       "      <td>858459539296980992</td>\n",
       "      <td>no-clickbait</td>\n",
       "      <td>[0.0, 0.6666666666, 0.0, 0.3333333333, 0.33333...</td>\n",
       "      <td>0.266667</td>\n",
       "      <td>0.333333</td>\n",
       "      <td>0.333333</td>\n",
       "    </tr>\n",
       "    <tr>\n",
       "      <th>4</th>\n",
       "      <td>858455355948384256</td>\n",
       "      <td>no-clickbait</td>\n",
       "      <td>[0.0, 0.0, 0.0, 0.0, 0.0]</td>\n",
       "      <td>0.000000</td>\n",
       "      <td>0.000000</td>\n",
       "      <td>0.000000</td>\n",
       "    </tr>\n",
       "  </tbody>\n",
       "</table>\n",
       "</div>"
      ],
      "text/plain": [
       "                   id    truthClass  \\\n",
       "0  858464162594172928     clickbait   \n",
       "1  858462320779026432  no-clickbait   \n",
       "2  858460992073863168  no-clickbait   \n",
       "3  858459539296980992  no-clickbait   \n",
       "4  858455355948384256  no-clickbait   \n",
       "\n",
       "                                      truthJudgments  truthMean  truthMedian  \\\n",
       "0                          [1.0, 1.0, 1.0, 1.0, 1.0]   1.000000     1.000000   \n",
       "1        [0.3333333333, 0.0, 0.3333333333, 0.0, 0.0]   0.133333     0.000000   \n",
       "2        [0.3333333333, 0.6666666666, 1.0, 0.0, 0.0]   0.400000     0.333333   \n",
       "3  [0.0, 0.6666666666, 0.0, 0.3333333333, 0.33333...   0.266667     0.333333   \n",
       "4                          [0.0, 0.0, 0.0, 0.0, 0.0]   0.000000     0.000000   \n",
       "\n",
       "   truthMode  \n",
       "0   1.000000  \n",
       "1   0.000000  \n",
       "2   0.000000  \n",
       "3   0.333333  \n",
       "4   0.000000  "
      ]
     },
     "execution_count": 68,
     "metadata": {},
     "output_type": "execute_result"
    }
   ],
   "source": [
    "truth.head()"
   ]
  },
  {
   "cell_type": "markdown",
   "metadata": {},
   "source": [
    "### Each article is classified as 'clickbait' or 'no-clickbait', shown in the 'truthClass' column"
   ]
  },
  {
   "cell_type": "code",
   "execution_count": 69,
   "metadata": {
    "slideshow": {
     "slide_type": "subslide"
    }
   },
   "outputs": [
    {
     "name": "stdout",
     "output_type": "stream",
     "text": [
      "<class 'pandas.core.frame.DataFrame'>\n",
      "Int64Index: 19538 entries, 0 to 19537\n",
      "Data columns (total 9 columns):\n",
      "id                   19538 non-null int64\n",
      "postMedia            19538 non-null object\n",
      "postText             19538 non-null object\n",
      "postTimestamp        19538 non-null object\n",
      "targetCaptions       19538 non-null object\n",
      "targetDescription    19538 non-null object\n",
      "targetKeywords       19538 non-null object\n",
      "targetParagraphs     19538 non-null object\n",
      "targetTitle          19538 non-null object\n",
      "dtypes: int64(1), object(8)\n",
      "memory usage: 1.5+ MB\n",
      "None\n"
     ]
    }
   ],
   "source": [
    "print instances.info()"
   ]
  },
  {
   "cell_type": "code",
   "execution_count": 70,
   "metadata": {
    "collapsed": true
   },
   "outputs": [],
   "source": [
    "instances.sort_values(by=['id'], ascending=True, inplace=True)"
   ]
  },
  {
   "cell_type": "code",
   "execution_count": 71,
   "metadata": {},
   "outputs": [
    {
     "name": "stdout",
     "output_type": "stream",
     "text": [
      "<class 'pandas.core.frame.DataFrame'>\n",
      "Int64Index: 19538 entries, 0 to 19537\n",
      "Data columns (total 6 columns):\n",
      "id                19538 non-null int64\n",
      "truthClass        19538 non-null object\n",
      "truthJudgments    19538 non-null object\n",
      "truthMean         19538 non-null float64\n",
      "truthMedian       19538 non-null float64\n",
      "truthMode         19538 non-null float64\n",
      "dtypes: float64(3), int64(1), object(2)\n",
      "memory usage: 1.0+ MB\n"
     ]
    }
   ],
   "source": [
    "truth.info()"
   ]
  },
  {
   "cell_type": "markdown",
   "metadata": {},
   "source": [
    "### Confirms that both files do not have any blank values"
   ]
  },
  {
   "cell_type": "code",
   "execution_count": 72,
   "metadata": {},
   "outputs": [
    {
     "data": {
      "text/html": [
       "<div>\n",
       "<style>\n",
       "    .dataframe thead tr:only-child th {\n",
       "        text-align: right;\n",
       "    }\n",
       "\n",
       "    .dataframe thead th {\n",
       "        text-align: left;\n",
       "    }\n",
       "\n",
       "    .dataframe tbody tr th {\n",
       "        vertical-align: top;\n",
       "    }\n",
       "</style>\n",
       "<table border=\"1\" class=\"dataframe\">\n",
       "  <thead>\n",
       "    <tr style=\"text-align: right;\">\n",
       "      <th></th>\n",
       "      <th>id</th>\n",
       "      <th>truthClass</th>\n",
       "      <th>truthJudgments</th>\n",
       "      <th>truthMean</th>\n",
       "      <th>truthMedian</th>\n",
       "      <th>truthMode</th>\n",
       "    </tr>\n",
       "  </thead>\n",
       "  <tbody>\n",
       "    <tr>\n",
       "      <th>19537</th>\n",
       "      <td>804113781580328960</td>\n",
       "      <td>no-clickbait</td>\n",
       "      <td>[0.0, 0.0, 0.0, 0.3333333333, 0.0]</td>\n",
       "      <td>0.066667</td>\n",
       "      <td>0.000000</td>\n",
       "      <td>0.0</td>\n",
       "    </tr>\n",
       "    <tr>\n",
       "      <th>19536</th>\n",
       "      <td>804119512010424320</td>\n",
       "      <td>clickbait</td>\n",
       "      <td>[1.0, 0.0, 0.6666666666, 1.0, 1.0]</td>\n",
       "      <td>0.733333</td>\n",
       "      <td>1.000000</td>\n",
       "      <td>1.0</td>\n",
       "    </tr>\n",
       "    <tr>\n",
       "      <th>19535</th>\n",
       "      <td>804121272967983104</td>\n",
       "      <td>no-clickbait</td>\n",
       "      <td>[0.6666666666, 0.6666666666, 0.0, 0.0, 0.33333...</td>\n",
       "      <td>0.333333</td>\n",
       "      <td>0.333333</td>\n",
       "      <td>0.0</td>\n",
       "    </tr>\n",
       "    <tr>\n",
       "      <th>19534</th>\n",
       "      <td>804123103995580416</td>\n",
       "      <td>no-clickbait</td>\n",
       "      <td>[0.0, 0.0, 0.0, 0.3333333333, 0.0]</td>\n",
       "      <td>0.066667</td>\n",
       "      <td>0.000000</td>\n",
       "      <td>0.0</td>\n",
       "    </tr>\n",
       "    <tr>\n",
       "      <th>19533</th>\n",
       "      <td>804126501117435904</td>\n",
       "      <td>no-clickbait</td>\n",
       "      <td>[0.0, 0.6666666666, 0.0, 0.0, 0.0]</td>\n",
       "      <td>0.133333</td>\n",
       "      <td>0.000000</td>\n",
       "      <td>0.0</td>\n",
       "    </tr>\n",
       "  </tbody>\n",
       "</table>\n",
       "</div>"
      ],
      "text/plain": [
       "                       id    truthClass  \\\n",
       "19537  804113781580328960  no-clickbait   \n",
       "19536  804119512010424320     clickbait   \n",
       "19535  804121272967983104  no-clickbait   \n",
       "19534  804123103995580416  no-clickbait   \n",
       "19533  804126501117435904  no-clickbait   \n",
       "\n",
       "                                          truthJudgments  truthMean  \\\n",
       "19537                 [0.0, 0.0, 0.0, 0.3333333333, 0.0]   0.066667   \n",
       "19536                 [1.0, 0.0, 0.6666666666, 1.0, 1.0]   0.733333   \n",
       "19535  [0.6666666666, 0.6666666666, 0.0, 0.0, 0.33333...   0.333333   \n",
       "19534                 [0.0, 0.0, 0.0, 0.3333333333, 0.0]   0.066667   \n",
       "19533                 [0.0, 0.6666666666, 0.0, 0.0, 0.0]   0.133333   \n",
       "\n",
       "       truthMedian  truthMode  \n",
       "19537     0.000000        0.0  \n",
       "19536     1.000000        1.0  \n",
       "19535     0.333333        0.0  \n",
       "19534     0.000000        0.0  \n",
       "19533     0.000000        0.0  "
      ]
     },
     "execution_count": 72,
     "metadata": {},
     "output_type": "execute_result"
    }
   ],
   "source": [
    "truth.sort_values(by=['id'], ascending=True, inplace=True)\n",
    "truth.head()"
   ]
  },
  {
   "cell_type": "code",
   "execution_count": 73,
   "metadata": {
    "collapsed": true
   },
   "outputs": [],
   "source": [
    "# Merging the two dataframes together by id\n",
    "corpus = pd.merge(instances, truth, on=['id'])"
   ]
  },
  {
   "cell_type": "code",
   "execution_count": 74,
   "metadata": {},
   "outputs": [
    {
     "data": {
      "text/html": [
       "<div>\n",
       "<style>\n",
       "    .dataframe thead tr:only-child th {\n",
       "        text-align: right;\n",
       "    }\n",
       "\n",
       "    .dataframe thead th {\n",
       "        text-align: left;\n",
       "    }\n",
       "\n",
       "    .dataframe tbody tr th {\n",
       "        vertical-align: top;\n",
       "    }\n",
       "</style>\n",
       "<table border=\"1\" class=\"dataframe\">\n",
       "  <thead>\n",
       "    <tr style=\"text-align: right;\">\n",
       "      <th></th>\n",
       "      <th>id</th>\n",
       "      <th>postMedia</th>\n",
       "      <th>postText</th>\n",
       "      <th>postTimestamp</th>\n",
       "      <th>targetCaptions</th>\n",
       "      <th>targetDescription</th>\n",
       "      <th>targetKeywords</th>\n",
       "      <th>targetParagraphs</th>\n",
       "      <th>targetTitle</th>\n",
       "      <th>truthClass</th>\n",
       "      <th>truthJudgments</th>\n",
       "      <th>truthMean</th>\n",
       "      <th>truthMedian</th>\n",
       "      <th>truthMode</th>\n",
       "    </tr>\n",
       "  </thead>\n",
       "  <tbody>\n",
       "    <tr>\n",
       "      <th>0</th>\n",
       "      <td>804113781580328960</td>\n",
       "      <td>[]</td>\n",
       "      <td>[Panama Papers: Europol links 3,500 names to s...</td>\n",
       "      <td>Thu Dec 01 00:03:59 +0000 2016</td>\n",
       "      <td>[Europol]</td>\n",
       "      <td>Law enforcement agency analysis uncovers proba...</td>\n",
       "      <td>European Union,Panama Papers,Organised crime,W...</td>\n",
       "      <td>[Law enforcement agency analysis uncovers prob...</td>\n",
       "      <td>Panama Papers: Europol links 3,500 names to su...</td>\n",
       "      <td>no-clickbait</td>\n",
       "      <td>[0.0, 0.0, 0.0, 0.3333333333, 0.0]</td>\n",
       "      <td>0.066667</td>\n",
       "      <td>0.000000</td>\n",
       "      <td>0.0</td>\n",
       "    </tr>\n",
       "    <tr>\n",
       "      <th>1</th>\n",
       "      <td>804119512010424320</td>\n",
       "      <td>[media/photo_804119509338640385.jpg]</td>\n",
       "      <td>[The key to truly great chicken soup]</td>\n",
       "      <td>Thu Dec 01 00:26:46 +0000 2016</td>\n",
       "      <td>[Chicken Noodle Soup Warm and comforting, this...</td>\n",
       "      <td>For the best rendition of this American classi...</td>\n",
       "      <td>Cooking and Cookbooks,Soups,Poultry</td>\n",
       "      <td>[Warm and comforting, this soup is a classic t...</td>\n",
       "      <td>A Superior Chicken Soup</td>\n",
       "      <td>clickbait</td>\n",
       "      <td>[1.0, 0.0, 0.6666666666, 1.0, 1.0]</td>\n",
       "      <td>0.733333</td>\n",
       "      <td>1.000000</td>\n",
       "      <td>1.0</td>\n",
       "    </tr>\n",
       "    <tr>\n",
       "      <th>2</th>\n",
       "      <td>804121272967983104</td>\n",
       "      <td>[]</td>\n",
       "      <td>[Afghan policewomen face down their fears to s...</td>\n",
       "      <td>Thu Dec 01 00:33:45 +0000 2016</td>\n",
       "      <td>[The battle to recruit women to the Afghan Pol...</td>\n",
       "      <td>The Afghan women risking all to join the police.</td>\n",
       "      <td></td>\n",
       "      <td>[Afghanistan is one of the most dangerous plac...</td>\n",
       "      <td>100 Women 2016: On the frontline with the wome...</td>\n",
       "      <td>no-clickbait</td>\n",
       "      <td>[0.6666666666, 0.6666666666, 0.0, 0.0, 0.33333...</td>\n",
       "      <td>0.333333</td>\n",
       "      <td>0.333333</td>\n",
       "      <td>0.0</td>\n",
       "    </tr>\n",
       "    <tr>\n",
       "      <th>3</th>\n",
       "      <td>804123103995580416</td>\n",
       "      <td>[]</td>\n",
       "      <td>[Conservatives are watching less football this...</td>\n",
       "      <td>Thu Dec 01 00:41:02 +0000 2016</td>\n",
       "      <td>[BuzzFeed Hires Mondelez Marketing Executive, ...</td>\n",
       "      <td>Many factors are dragging down NFL ratings, in...</td>\n",
       "      <td>nfl,ratings,american football,political,genera...</td>\n",
       "      <td>[Explanations for this year’s sagging National...</td>\n",
       "      <td>Older Viewers and Conservatives Are Watching L...</td>\n",
       "      <td>no-clickbait</td>\n",
       "      <td>[0.0, 0.0, 0.0, 0.3333333333, 0.0]</td>\n",
       "      <td>0.066667</td>\n",
       "      <td>0.000000</td>\n",
       "      <td>0.0</td>\n",
       "    </tr>\n",
       "    <tr>\n",
       "      <th>4</th>\n",
       "      <td>804126501117435904</td>\n",
       "      <td>[media/photo_804125377400553474.jpg]</td>\n",
       "      <td>[Richard Sherman weighs in on Cam Newton’s str...</td>\n",
       "      <td>Thu Dec 01 00:54:32 +0000 2016</td>\n",
       "      <td>[Richard Sherman Says 'Karma' Caught Up to Cam...</td>\n",
       "      <td>Seattle Seahawks news, rumors, scores, schedul...</td>\n",
       "      <td>Football, NFL, NFC West, Seattle Seahawks, Bre...</td>\n",
       "      <td>[Seattle Seahawks cornerback Richard Sherman m...</td>\n",
       "      <td>Seattle Seahawks Richard Sherman Says 'Karma' ...</td>\n",
       "      <td>no-clickbait</td>\n",
       "      <td>[0.0, 0.6666666666, 0.0, 0.0, 0.0]</td>\n",
       "      <td>0.133333</td>\n",
       "      <td>0.000000</td>\n",
       "      <td>0.0</td>\n",
       "    </tr>\n",
       "  </tbody>\n",
       "</table>\n",
       "</div>"
      ],
      "text/plain": [
       "                   id                             postMedia  \\\n",
       "0  804113781580328960                                    []   \n",
       "1  804119512010424320  [media/photo_804119509338640385.jpg]   \n",
       "2  804121272967983104                                    []   \n",
       "3  804123103995580416                                    []   \n",
       "4  804126501117435904  [media/photo_804125377400553474.jpg]   \n",
       "\n",
       "                                            postText  \\\n",
       "0  [Panama Papers: Europol links 3,500 names to s...   \n",
       "1              [The key to truly great chicken soup]   \n",
       "2  [Afghan policewomen face down their fears to s...   \n",
       "3  [Conservatives are watching less football this...   \n",
       "4  [Richard Sherman weighs in on Cam Newton’s str...   \n",
       "\n",
       "                    postTimestamp  \\\n",
       "0  Thu Dec 01 00:03:59 +0000 2016   \n",
       "1  Thu Dec 01 00:26:46 +0000 2016   \n",
       "2  Thu Dec 01 00:33:45 +0000 2016   \n",
       "3  Thu Dec 01 00:41:02 +0000 2016   \n",
       "4  Thu Dec 01 00:54:32 +0000 2016   \n",
       "\n",
       "                                      targetCaptions  \\\n",
       "0                                          [Europol]   \n",
       "1  [Chicken Noodle Soup Warm and comforting, this...   \n",
       "2  [The battle to recruit women to the Afghan Pol...   \n",
       "3  [BuzzFeed Hires Mondelez Marketing Executive, ...   \n",
       "4  [Richard Sherman Says 'Karma' Caught Up to Cam...   \n",
       "\n",
       "                                   targetDescription  \\\n",
       "0  Law enforcement agency analysis uncovers proba...   \n",
       "1  For the best rendition of this American classi...   \n",
       "2   The Afghan women risking all to join the police.   \n",
       "3  Many factors are dragging down NFL ratings, in...   \n",
       "4  Seattle Seahawks news, rumors, scores, schedul...   \n",
       "\n",
       "                                      targetKeywords  \\\n",
       "0  European Union,Panama Papers,Organised crime,W...   \n",
       "1                Cooking and Cookbooks,Soups,Poultry   \n",
       "2                                                      \n",
       "3  nfl,ratings,american football,political,genera...   \n",
       "4  Football, NFL, NFC West, Seattle Seahawks, Bre...   \n",
       "\n",
       "                                    targetParagraphs  \\\n",
       "0  [Law enforcement agency analysis uncovers prob...   \n",
       "1  [Warm and comforting, this soup is a classic t...   \n",
       "2  [Afghanistan is one of the most dangerous plac...   \n",
       "3  [Explanations for this year’s sagging National...   \n",
       "4  [Seattle Seahawks cornerback Richard Sherman m...   \n",
       "\n",
       "                                         targetTitle    truthClass  \\\n",
       "0  Panama Papers: Europol links 3,500 names to su...  no-clickbait   \n",
       "1                           A Superior Chicken Soup      clickbait   \n",
       "2  100 Women 2016: On the frontline with the wome...  no-clickbait   \n",
       "3  Older Viewers and Conservatives Are Watching L...  no-clickbait   \n",
       "4  Seattle Seahawks Richard Sherman Says 'Karma' ...  no-clickbait   \n",
       "\n",
       "                                      truthJudgments  truthMean  truthMedian  \\\n",
       "0                 [0.0, 0.0, 0.0, 0.3333333333, 0.0]   0.066667     0.000000   \n",
       "1                 [1.0, 0.0, 0.6666666666, 1.0, 1.0]   0.733333     1.000000   \n",
       "2  [0.6666666666, 0.6666666666, 0.0, 0.0, 0.33333...   0.333333     0.333333   \n",
       "3                 [0.0, 0.0, 0.0, 0.3333333333, 0.0]   0.066667     0.000000   \n",
       "4                 [0.0, 0.6666666666, 0.0, 0.0, 0.0]   0.133333     0.000000   \n",
       "\n",
       "   truthMode  \n",
       "0        0.0  \n",
       "1        1.0  \n",
       "2        0.0  \n",
       "3        0.0  \n",
       "4        0.0  "
      ]
     },
     "execution_count": 74,
     "metadata": {},
     "output_type": "execute_result"
    }
   ],
   "source": [
    "corpus.head()"
   ]
  },
  {
   "cell_type": "markdown",
   "metadata": {},
   "source": [
    "<div class=\"alert alert-alert alert-warning\">Since I am only interested in whether a particular article is clickbait or not, I will need to determine a baseline for my classification scores</div>"
   ]
  },
  {
   "cell_type": "markdown",
   "metadata": {},
   "source": [
    "### Calculate baseline accuracy for classification problem"
   ]
  },
  {
   "cell_type": "code",
   "execution_count": 75,
   "metadata": {},
   "outputs": [
    {
     "data": {
      "text/plain": [
       "no-clickbait    14777\n",
       "clickbait        4761\n",
       "Name: truthClass, dtype: int64"
      ]
     },
     "execution_count": 75,
     "metadata": {},
     "output_type": "execute_result"
    }
   ],
   "source": [
    "corpus['truthClass'].value_counts()"
   ]
  },
  {
   "cell_type": "code",
   "execution_count": 76,
   "metadata": {},
   "outputs": [
    {
     "name": "stdout",
     "output_type": "stream",
     "text": [
      "Baseline accuracy is 0.756321015457\n"
     ]
    }
   ],
   "source": [
    "# rename clickbait/no-clickbait values to 1 and 0\n",
    "corpus['truthClass'].replace('clickbait', 1, inplace=True)\n",
    "corpus['truthClass'].replace('no-clickbait', 0, inplace=True)\n",
    "baseline_acc = 1. - corpus.truthClass.mean()\n",
    "print 'Baseline accuracy is ' + str(baseline_acc)"
   ]
  },
  {
   "cell_type": "markdown",
   "metadata": {},
   "source": [
    "<div class=\"alert alert-block alert-warning\"><p>I will proceed to drop all features that will not be used. postText, targetCaptions, targetKeywords, targetDescription are columns that also contain text information but I dropped them as they are subsets of words that will be found in the targetPara column (i.e. the full article)\n",
    "</div>"
   ]
  },
  {
   "cell_type": "code",
   "execution_count": 77,
   "metadata": {
    "collapsed": true
   },
   "outputs": [],
   "source": [
    "corpus.drop(['postMedia','postText','postTimestamp','targetCaptions','targetKeywords','targetDescription'], axis=1, inplace=True)"
   ]
  },
  {
   "cell_type": "code",
   "execution_count": 78,
   "metadata": {},
   "outputs": [
    {
     "data": {
      "text/html": [
       "<div>\n",
       "<style>\n",
       "    .dataframe thead tr:only-child th {\n",
       "        text-align: right;\n",
       "    }\n",
       "\n",
       "    .dataframe thead th {\n",
       "        text-align: left;\n",
       "    }\n",
       "\n",
       "    .dataframe tbody tr th {\n",
       "        vertical-align: top;\n",
       "    }\n",
       "</style>\n",
       "<table border=\"1\" class=\"dataframe\">\n",
       "  <thead>\n",
       "    <tr style=\"text-align: right;\">\n",
       "      <th></th>\n",
       "      <th>id</th>\n",
       "      <th>targetParagraphs</th>\n",
       "      <th>targetTitle</th>\n",
       "      <th>truthClass</th>\n",
       "      <th>truthJudgments</th>\n",
       "      <th>truthMean</th>\n",
       "      <th>truthMedian</th>\n",
       "      <th>truthMode</th>\n",
       "    </tr>\n",
       "  </thead>\n",
       "  <tbody>\n",
       "    <tr>\n",
       "      <th>0</th>\n",
       "      <td>804113781580328960</td>\n",
       "      <td>[Law enforcement agency analysis uncovers prob...</td>\n",
       "      <td>Panama Papers: Europol links 3,500 names to su...</td>\n",
       "      <td>0</td>\n",
       "      <td>[0.0, 0.0, 0.0, 0.3333333333, 0.0]</td>\n",
       "      <td>0.066667</td>\n",
       "      <td>0.000000</td>\n",
       "      <td>0.0</td>\n",
       "    </tr>\n",
       "    <tr>\n",
       "      <th>1</th>\n",
       "      <td>804119512010424320</td>\n",
       "      <td>[Warm and comforting, this soup is a classic t...</td>\n",
       "      <td>A Superior Chicken Soup</td>\n",
       "      <td>1</td>\n",
       "      <td>[1.0, 0.0, 0.6666666666, 1.0, 1.0]</td>\n",
       "      <td>0.733333</td>\n",
       "      <td>1.000000</td>\n",
       "      <td>1.0</td>\n",
       "    </tr>\n",
       "    <tr>\n",
       "      <th>2</th>\n",
       "      <td>804121272967983104</td>\n",
       "      <td>[Afghanistan is one of the most dangerous plac...</td>\n",
       "      <td>100 Women 2016: On the frontline with the wome...</td>\n",
       "      <td>0</td>\n",
       "      <td>[0.6666666666, 0.6666666666, 0.0, 0.0, 0.33333...</td>\n",
       "      <td>0.333333</td>\n",
       "      <td>0.333333</td>\n",
       "      <td>0.0</td>\n",
       "    </tr>\n",
       "    <tr>\n",
       "      <th>3</th>\n",
       "      <td>804123103995580416</td>\n",
       "      <td>[Explanations for this year’s sagging National...</td>\n",
       "      <td>Older Viewers and Conservatives Are Watching L...</td>\n",
       "      <td>0</td>\n",
       "      <td>[0.0, 0.0, 0.0, 0.3333333333, 0.0]</td>\n",
       "      <td>0.066667</td>\n",
       "      <td>0.000000</td>\n",
       "      <td>0.0</td>\n",
       "    </tr>\n",
       "    <tr>\n",
       "      <th>4</th>\n",
       "      <td>804126501117435904</td>\n",
       "      <td>[Seattle Seahawks cornerback Richard Sherman m...</td>\n",
       "      <td>Seattle Seahawks Richard Sherman Says 'Karma' ...</td>\n",
       "      <td>0</td>\n",
       "      <td>[0.0, 0.6666666666, 0.0, 0.0, 0.0]</td>\n",
       "      <td>0.133333</td>\n",
       "      <td>0.000000</td>\n",
       "      <td>0.0</td>\n",
       "    </tr>\n",
       "  </tbody>\n",
       "</table>\n",
       "</div>"
      ],
      "text/plain": [
       "                   id                                   targetParagraphs  \\\n",
       "0  804113781580328960  [Law enforcement agency analysis uncovers prob...   \n",
       "1  804119512010424320  [Warm and comforting, this soup is a classic t...   \n",
       "2  804121272967983104  [Afghanistan is one of the most dangerous plac...   \n",
       "3  804123103995580416  [Explanations for this year’s sagging National...   \n",
       "4  804126501117435904  [Seattle Seahawks cornerback Richard Sherman m...   \n",
       "\n",
       "                                         targetTitle  truthClass  \\\n",
       "0  Panama Papers: Europol links 3,500 names to su...           0   \n",
       "1                           A Superior Chicken Soup            1   \n",
       "2  100 Women 2016: On the frontline with the wome...           0   \n",
       "3  Older Viewers and Conservatives Are Watching L...           0   \n",
       "4  Seattle Seahawks Richard Sherman Says 'Karma' ...           0   \n",
       "\n",
       "                                      truthJudgments  truthMean  truthMedian  \\\n",
       "0                 [0.0, 0.0, 0.0, 0.3333333333, 0.0]   0.066667     0.000000   \n",
       "1                 [1.0, 0.0, 0.6666666666, 1.0, 1.0]   0.733333     1.000000   \n",
       "2  [0.6666666666, 0.6666666666, 0.0, 0.0, 0.33333...   0.333333     0.333333   \n",
       "3                 [0.0, 0.0, 0.0, 0.3333333333, 0.0]   0.066667     0.000000   \n",
       "4                 [0.0, 0.6666666666, 0.0, 0.0, 0.0]   0.133333     0.000000   \n",
       "\n",
       "   truthMode  \n",
       "0        0.0  \n",
       "1        1.0  \n",
       "2        0.0  \n",
       "3        0.0  \n",
       "4        0.0  "
      ]
     },
     "execution_count": 78,
     "metadata": {},
     "output_type": "execute_result"
    }
   ],
   "source": [
    "corpus.head()"
   ]
  },
  {
   "cell_type": "code",
   "execution_count": 79,
   "metadata": {},
   "outputs": [
    {
     "data": {
      "text/html": [
       "<div>\n",
       "<style>\n",
       "    .dataframe thead tr:only-child th {\n",
       "        text-align: right;\n",
       "    }\n",
       "\n",
       "    .dataframe thead th {\n",
       "        text-align: left;\n",
       "    }\n",
       "\n",
       "    .dataframe tbody tr th {\n",
       "        vertical-align: top;\n",
       "    }\n",
       "</style>\n",
       "<table border=\"1\" class=\"dataframe\">\n",
       "  <thead>\n",
       "    <tr style=\"text-align: right;\">\n",
       "      <th></th>\n",
       "      <th>id</th>\n",
       "      <th>para</th>\n",
       "      <th>title</th>\n",
       "      <th>clickbait</th>\n",
       "      <th>judgements</th>\n",
       "      <th>mean</th>\n",
       "      <th>median</th>\n",
       "      <th>mode</th>\n",
       "    </tr>\n",
       "  </thead>\n",
       "  <tbody>\n",
       "    <tr>\n",
       "      <th>0</th>\n",
       "      <td>804113781580328960</td>\n",
       "      <td>[Law enforcement agency analysis uncovers prob...</td>\n",
       "      <td>Panama Papers: Europol links 3,500 names to su...</td>\n",
       "      <td>0</td>\n",
       "      <td>[0.0, 0.0, 0.0, 0.3333333333, 0.0]</td>\n",
       "      <td>0.066667</td>\n",
       "      <td>0.000000</td>\n",
       "      <td>0.0</td>\n",
       "    </tr>\n",
       "    <tr>\n",
       "      <th>1</th>\n",
       "      <td>804119512010424320</td>\n",
       "      <td>[Warm and comforting, this soup is a classic t...</td>\n",
       "      <td>A Superior Chicken Soup</td>\n",
       "      <td>1</td>\n",
       "      <td>[1.0, 0.0, 0.6666666666, 1.0, 1.0]</td>\n",
       "      <td>0.733333</td>\n",
       "      <td>1.000000</td>\n",
       "      <td>1.0</td>\n",
       "    </tr>\n",
       "    <tr>\n",
       "      <th>2</th>\n",
       "      <td>804121272967983104</td>\n",
       "      <td>[Afghanistan is one of the most dangerous plac...</td>\n",
       "      <td>100 Women 2016: On the frontline with the wome...</td>\n",
       "      <td>0</td>\n",
       "      <td>[0.6666666666, 0.6666666666, 0.0, 0.0, 0.33333...</td>\n",
       "      <td>0.333333</td>\n",
       "      <td>0.333333</td>\n",
       "      <td>0.0</td>\n",
       "    </tr>\n",
       "    <tr>\n",
       "      <th>3</th>\n",
       "      <td>804123103995580416</td>\n",
       "      <td>[Explanations for this year’s sagging National...</td>\n",
       "      <td>Older Viewers and Conservatives Are Watching L...</td>\n",
       "      <td>0</td>\n",
       "      <td>[0.0, 0.0, 0.0, 0.3333333333, 0.0]</td>\n",
       "      <td>0.066667</td>\n",
       "      <td>0.000000</td>\n",
       "      <td>0.0</td>\n",
       "    </tr>\n",
       "    <tr>\n",
       "      <th>4</th>\n",
       "      <td>804126501117435904</td>\n",
       "      <td>[Seattle Seahawks cornerback Richard Sherman m...</td>\n",
       "      <td>Seattle Seahawks Richard Sherman Says 'Karma' ...</td>\n",
       "      <td>0</td>\n",
       "      <td>[0.0, 0.6666666666, 0.0, 0.0, 0.0]</td>\n",
       "      <td>0.133333</td>\n",
       "      <td>0.000000</td>\n",
       "      <td>0.0</td>\n",
       "    </tr>\n",
       "  </tbody>\n",
       "</table>\n",
       "</div>"
      ],
      "text/plain": [
       "                   id                                               para  \\\n",
       "0  804113781580328960  [Law enforcement agency analysis uncovers prob...   \n",
       "1  804119512010424320  [Warm and comforting, this soup is a classic t...   \n",
       "2  804121272967983104  [Afghanistan is one of the most dangerous plac...   \n",
       "3  804123103995580416  [Explanations for this year’s sagging National...   \n",
       "4  804126501117435904  [Seattle Seahawks cornerback Richard Sherman m...   \n",
       "\n",
       "                                               title  clickbait  \\\n",
       "0  Panama Papers: Europol links 3,500 names to su...          0   \n",
       "1                           A Superior Chicken Soup           1   \n",
       "2  100 Women 2016: On the frontline with the wome...          0   \n",
       "3  Older Viewers and Conservatives Are Watching L...          0   \n",
       "4  Seattle Seahawks Richard Sherman Says 'Karma' ...          0   \n",
       "\n",
       "                                          judgements      mean    median  mode  \n",
       "0                 [0.0, 0.0, 0.0, 0.3333333333, 0.0]  0.066667  0.000000   0.0  \n",
       "1                 [1.0, 0.0, 0.6666666666, 1.0, 1.0]  0.733333  1.000000   1.0  \n",
       "2  [0.6666666666, 0.6666666666, 0.0, 0.0, 0.33333...  0.333333  0.333333   0.0  \n",
       "3                 [0.0, 0.0, 0.0, 0.3333333333, 0.0]  0.066667  0.000000   0.0  \n",
       "4                 [0.0, 0.6666666666, 0.0, 0.0, 0.0]  0.133333  0.000000   0.0  "
      ]
     },
     "execution_count": 79,
     "metadata": {},
     "output_type": "execute_result"
    }
   ],
   "source": [
    "# Rename columns for easier reference\n",
    "headers = ['id','para','title','clickbait','judgements','mean','median','mode']\n",
    "corpus.columns = headers\n",
    "        \n",
    "corpus.head()  "
   ]
  },
  {
   "cell_type": "code",
   "execution_count": 80,
   "metadata": {},
   "outputs": [
    {
     "data": {
      "text/plain": [
       "[u'Watch Live:\\xa0Joe Biden Honored on Senate Floor',\n",
       " u\"The judge in the murder trial of a white former patrolman who fatally shot a black motorist decided Wednesday to let the jury consider a lesser charge of manslaughter, meaning prosecutors won't have to prove Michael Slager acted out of malice when he shot Walter Scott in the back.\",\n",
       " u\"Slager is charged in the April 2015 shooting death of Walter Scott, who fled from a traffic stop and resisted arrest. The final moments of their encounter were captured on a bystander's cellphone video that shocked the nation.\",\n",
       " u\"While the jury was visiting the scene of the shooting on Wednesday morning, Judge Clifton Newman told attorneys he would grant the prosecution's request to let jurors consider manslaughter as well as murder.\",\n",
       " u\"South Carolina law defines murder as the unlawful taking of life with malice. In Slager's case \\u2014 because the prosecution is alleging no aggravating circumstances that could bring a death sentence \\u2014 murder carries a penalty of 30 years to life.\",\n",
       " u'The prosecution contends that by shooting Scott repeatedly in the back as the motorist tried to run away, Slager showed evidence of malice.',\n",
       " u'Manslaughter is the unlawful killing of another without malice, punishable by two to 30 years in prison.',\n",
       " u'Defense attorney Andy Savage did not object in court to the addition of the lesser charge.',\n",
       " u'After hearing from 55 witnesses, the jurors were taken to the crime scene Wednesday. The vacant lot in North Charleston was the last step before closing arguments Wednesday afternoon in the month-long trial.',\n",
       " u\"The jury \\u2014 11 white people and one black man \\u2014 have already seen a bystander's cellphone video of the shooting multiple times over the course of the trial.\",\n",
       " u'Circuit Judge Clifton Newman told the jurors not to take notes or discuss what they see at the scene. Court officials and one representative each from the defense and prosecution went along, but the media was not allowed to attend.']"
      ]
     },
     "execution_count": 80,
     "metadata": {},
     "output_type": "execute_result"
    }
   ],
   "source": [
    "corpus['para'][9]"
   ]
  },
  {
   "cell_type": "markdown",
   "metadata": {
    "slideshow": {
     "slide_type": "slide"
    }
   },
   "source": [
    "<div class=\"alert alert-block alert-warning\">\n",
    "Because of the nature of JSONL files, after loading into the Pandas dataframe, each article appears as a list of strings. Every item in this list corresponds to a single sentence in the article. They are encoded in the UTF-8 format, which throws up the strange characters like \\xa0 and \\u2014.\n",
    "<br><br>\n",
    "Another point to note is that not all article lines are encoded in UTF-8. Some of them are already in ASCII format. Certain articles contain a mixed encoding of the two.</div>"
   ]
  },
  {
   "cell_type": "code",
   "execution_count": 81,
   "metadata": {
    "collapsed": true
   },
   "outputs": [],
   "source": [
    "def unicodetoascii(text):\n",
    "    \"\"\"function to substitute non-ASCII characters to ASCII\"\"\"\n",
    "    TEXT = (text.\n",
    "    \t\treplace('\\xe2\\x80\\x99', \"'\").\n",
    "            replace('\\xc3\\xa9', 'e').\n",
    "            replace('\\xe2\\x80\\x90', '-').\n",
    "            replace('\\xe2\\x80\\x91', '-').\n",
    "            replace('\\xe2\\x80\\x92', '-').\n",
    "            replace('\\xe2\\x80\\x93', '-').\n",
    "            replace('\\xe2\\x80\\x94', '-').\n",
    "            replace('\\xe2\\x80\\x94', '-').\n",
    "            replace('\\xe2\\x80\\x98', \"'\").\n",
    "            replace('\\xe2\\x80\\x9b', \"'\").\n",
    "            replace('\\xe2\\x80\\x9c', '\"').\n",
    "            replace('\\xe2\\x80\\x9c', '\"').\n",
    "            replace('\\xe2\\x80\\x9d', '\"').\n",
    "            replace('\\xe2\\x80\\x9e', '\"').\n",
    "            replace('\\xe2\\x80\\x9f', '\"').\n",
    "            replace('\\xe2\\x80\\xa6', '...').\n",
    "            replace('\\xe2\\x80\\xb2', \"'\").\n",
    "            replace('\\xe2\\x80\\xb3', \"'\").\n",
    "            replace('\\xe2\\x80\\xb4', \"'\").\n",
    "            replace('\\xe2\\x80\\xb5', \"'\").\n",
    "            replace('\\xe2\\x80\\xb6', \"'\").\n",
    "            replace('\\xe2\\x80\\xb7', \"'\").\n",
    "            replace('\\xe2\\x81\\xba', \"+\").\n",
    "            replace('\\xe2\\x81\\xbb', \"-\").\n",
    "            replace('\\xe2\\x81\\xbc', \"=\").\n",
    "            replace('\\xe2\\x81\\xbd', \"(\").\n",
    "            replace('\\xe2\\x81\\xbe', \")\").\n",
    "            replace('\\xc2\\xa0', ' ').\n",
    "            replace('\\\\', '')\n",
    "\n",
    "                 )\n",
    "    return TEXT"
   ]
  },
  {
   "cell_type": "code",
   "execution_count": 82,
   "metadata": {
    "collapsed": true
   },
   "outputs": [],
   "source": [
    "# This will generate a clean list of articles, all encoded in ASCII format\n",
    "final = []    \n",
    "for p in range(len(corpus['para'])): \n",
    "    arty = ''\n",
    "    for l in range(len(corpus['para'][p])): \n",
    "        try:\n",
    "            t = unicodetoascii(corpus['para'][p][l].encode('utf-8', 'ignore').lower()) \n",
    "            arty += ' ' + t\n",
    "            \n",
    "        except:\n",
    "            t = unicodetoascii(corpus['para'][p][l].encode('ascii', 'ignore').lower())\n",
    "            arty += ' ' + t\n",
    "    final.append(arty)"
   ]
  },
  {
   "cell_type": "markdown",
   "metadata": {
    "collapsed": true
   },
   "source": [
    "### By now every element in the 'final' list contains a single unicode string of characters"
   ]
  },
  {
   "cell_type": "code",
   "execution_count": 83,
   "metadata": {
    "collapsed": true
   },
   "outputs": [],
   "source": [
    "# convert list to dataframe, for merging into main dataframe later\n",
    "final_series = pd.Series(final)\n",
    "df = pd.DataFrame(final_series, columns=['Words'])\n",
    "\n",
    "# character count for each article, place into dataframe to merge later\n",
    "char_count = [len(final[i]) for i in range(len(final))]\n",
    "char_pd = pd.DataFrame(char_count)\n",
    "\n",
    "# merge everything\n",
    "new_corpus = pd.merge(corpus, df, left_index=True, right_index=True)"
   ]
  },
  {
   "cell_type": "code",
   "execution_count": 84,
   "metadata": {
    "collapsed": true
   },
   "outputs": [],
   "source": [
    "new_corpus['Words'] = [str(x) for x in new_corpus['Words']] # converts unicode datatype to string\n",
    "new_corpus['char_count'] = char_pd \n",
    "\n",
    "# I want to get a word count as well, so split the string in new_corpus.Words by space, then count the number of words\n",
    "new_corpus['word_count'] = new_corpus['Words'].apply(lambda x: len(x.split(\" \"))) "
   ]
  },
  {
   "cell_type": "code",
   "execution_count": 85,
   "metadata": {},
   "outputs": [
    {
     "data": {
      "text/html": [
       "<div>\n",
       "<style>\n",
       "    .dataframe thead tr:only-child th {\n",
       "        text-align: right;\n",
       "    }\n",
       "\n",
       "    .dataframe thead th {\n",
       "        text-align: left;\n",
       "    }\n",
       "\n",
       "    .dataframe tbody tr th {\n",
       "        vertical-align: top;\n",
       "    }\n",
       "</style>\n",
       "<table border=\"1\" class=\"dataframe\">\n",
       "  <thead>\n",
       "    <tr style=\"text-align: right;\">\n",
       "      <th></th>\n",
       "      <th>id</th>\n",
       "      <th>para</th>\n",
       "      <th>title</th>\n",
       "      <th>clickbait</th>\n",
       "      <th>judgements</th>\n",
       "      <th>mean</th>\n",
       "      <th>median</th>\n",
       "      <th>mode</th>\n",
       "      <th>Words</th>\n",
       "      <th>char_count</th>\n",
       "      <th>word_count</th>\n",
       "    </tr>\n",
       "  </thead>\n",
       "  <tbody>\n",
       "    <tr>\n",
       "      <th>0</th>\n",
       "      <td>804113781580328960</td>\n",
       "      <td>[Law enforcement agency analysis uncovers prob...</td>\n",
       "      <td>Panama Papers: Europol links 3,500 names to su...</td>\n",
       "      <td>0</td>\n",
       "      <td>[0.0, 0.0, 0.0, 0.3333333333, 0.0]</td>\n",
       "      <td>0.066667</td>\n",
       "      <td>0.000000</td>\n",
       "      <td>0.0</td>\n",
       "      <td>law enforcement agency analysis uncovers prob...</td>\n",
       "      <td>4755</td>\n",
       "      <td>730</td>\n",
       "    </tr>\n",
       "    <tr>\n",
       "      <th>1</th>\n",
       "      <td>804119512010424320</td>\n",
       "      <td>[Warm and comforting, this soup is a classic t...</td>\n",
       "      <td>A Superior Chicken Soup</td>\n",
       "      <td>1</td>\n",
       "      <td>[1.0, 0.0, 0.6666666666, 1.0, 1.0]</td>\n",
       "      <td>0.733333</td>\n",
       "      <td>1.000000</td>\n",
       "      <td>1.0</td>\n",
       "      <td>warm and comforting, this soup is a classic t...</td>\n",
       "      <td>7810</td>\n",
       "      <td>1363</td>\n",
       "    </tr>\n",
       "    <tr>\n",
       "      <th>2</th>\n",
       "      <td>804121272967983104</td>\n",
       "      <td>[Afghanistan is one of the most dangerous plac...</td>\n",
       "      <td>100 Women 2016: On the frontline with the wome...</td>\n",
       "      <td>0</td>\n",
       "      <td>[0.6666666666, 0.6666666666, 0.0, 0.0, 0.33333...</td>\n",
       "      <td>0.333333</td>\n",
       "      <td>0.333333</td>\n",
       "      <td>0.0</td>\n",
       "      <td>afghanistan is one of the most dangerous plac...</td>\n",
       "      <td>933</td>\n",
       "      <td>164</td>\n",
       "    </tr>\n",
       "    <tr>\n",
       "      <th>3</th>\n",
       "      <td>804123103995580416</td>\n",
       "      <td>[Explanations for this year’s sagging National...</td>\n",
       "      <td>Older Viewers and Conservatives Are Watching L...</td>\n",
       "      <td>0</td>\n",
       "      <td>[0.0, 0.0, 0.0, 0.3333333333, 0.0]</td>\n",
       "      <td>0.066667</td>\n",
       "      <td>0.000000</td>\n",
       "      <td>0.0</td>\n",
       "      <td>explanations for this year's sagging national...</td>\n",
       "      <td>3202</td>\n",
       "      <td>528</td>\n",
       "    </tr>\n",
       "    <tr>\n",
       "      <th>4</th>\n",
       "      <td>804126501117435904</td>\n",
       "      <td>[Seattle Seahawks cornerback Richard Sherman m...</td>\n",
       "      <td>Seattle Seahawks Richard Sherman Says 'Karma' ...</td>\n",
       "      <td>0</td>\n",
       "      <td>[0.0, 0.6666666666, 0.0, 0.0, 0.0]</td>\n",
       "      <td>0.133333</td>\n",
       "      <td>0.000000</td>\n",
       "      <td>0.0</td>\n",
       "      <td>seattle seahawks cornerback richard sherman m...</td>\n",
       "      <td>893</td>\n",
       "      <td>161</td>\n",
       "    </tr>\n",
       "  </tbody>\n",
       "</table>\n",
       "</div>"
      ],
      "text/plain": [
       "                   id                                               para  \\\n",
       "0  804113781580328960  [Law enforcement agency analysis uncovers prob...   \n",
       "1  804119512010424320  [Warm and comforting, this soup is a classic t...   \n",
       "2  804121272967983104  [Afghanistan is one of the most dangerous plac...   \n",
       "3  804123103995580416  [Explanations for this year’s sagging National...   \n",
       "4  804126501117435904  [Seattle Seahawks cornerback Richard Sherman m...   \n",
       "\n",
       "                                               title  clickbait  \\\n",
       "0  Panama Papers: Europol links 3,500 names to su...          0   \n",
       "1                           A Superior Chicken Soup           1   \n",
       "2  100 Women 2016: On the frontline with the wome...          0   \n",
       "3  Older Viewers and Conservatives Are Watching L...          0   \n",
       "4  Seattle Seahawks Richard Sherman Says 'Karma' ...          0   \n",
       "\n",
       "                                          judgements      mean    median  \\\n",
       "0                 [0.0, 0.0, 0.0, 0.3333333333, 0.0]  0.066667  0.000000   \n",
       "1                 [1.0, 0.0, 0.6666666666, 1.0, 1.0]  0.733333  1.000000   \n",
       "2  [0.6666666666, 0.6666666666, 0.0, 0.0, 0.33333...  0.333333  0.333333   \n",
       "3                 [0.0, 0.0, 0.0, 0.3333333333, 0.0]  0.066667  0.000000   \n",
       "4                 [0.0, 0.6666666666, 0.0, 0.0, 0.0]  0.133333  0.000000   \n",
       "\n",
       "   mode                                              Words  char_count  \\\n",
       "0   0.0   law enforcement agency analysis uncovers prob...        4755   \n",
       "1   1.0   warm and comforting, this soup is a classic t...        7810   \n",
       "2   0.0   afghanistan is one of the most dangerous plac...         933   \n",
       "3   0.0   explanations for this year's sagging national...        3202   \n",
       "4   0.0   seattle seahawks cornerback richard sherman m...         893   \n",
       "\n",
       "   word_count  \n",
       "0         730  \n",
       "1        1363  \n",
       "2         164  \n",
       "3         528  \n",
       "4         161  "
      ]
     },
     "execution_count": 85,
     "metadata": {},
     "output_type": "execute_result"
    }
   ],
   "source": [
    "new_corpus.head()"
   ]
  },
  {
   "cell_type": "code",
   "execution_count": 26,
   "metadata": {},
   "outputs": [
    {
     "data": {
      "image/png": "[encoded data removed]",
      "text/plain": [
       "<matplotlib.figure.Figure at 0x1a4e3ff150>"
      ]
     },
     "metadata": {},
     "output_type": "display_data"
    }
   ],
   "source": [
    "# Boxplot to show the character and word distribution among articles\n",
    "\n",
    "fig, axes = plt.subplots(nrows=1, ncols=2, figsize=(12, 5))\n",
    "\n",
    "bplot1 = axes[0].boxplot(new_corpus.word_count,\n",
    "                         vert=True,   # vertical box aligmnent\n",
    "                         patch_artist=True, sym='', labels=['character count'])   # fill with color\n",
    "\n",
    "bplot2 = axes[1].boxplot(new_corpus.char_count,\n",
    "                         vert=True,   # vertical box aligmnent\n",
    "                         patch_artist=True, sym='', labels=['word count'])   # fill with color\n"
   ]
  },
  {
   "cell_type": "markdown",
   "metadata": {},
   "source": [
    "### Additional EDA on the corpus I am using"
   ]
  },
  {
   "cell_type": "code",
   "execution_count": 68,
   "metadata": {
    "collapsed": true
   },
   "outputs": [],
   "source": [
    "# Wordcloud representation of the words most frequently encountered \n",
    "# in clickbait articles\n",
    "from wordcloud import WordCloud\n",
    "cw = new_corpus.loc[new_corpus['clickbait']==1]\n",
    "new_cw = cw['Words'].reset_index()\n"
   ]
  },
  {
   "cell_type": "code",
   "execution_count": 69,
   "metadata": {},
   "outputs": [
    {
     "data": {
      "image/png": "[encoded data removed]",
      "text/plain": [
       "<matplotlib.figure.Figure at 0x1a1f842e10>"
      ]
     },
     "metadata": {},
     "output_type": "display_data"
    }
   ],
   "source": [
    "# generate wordcloud with a cap of 250 words. The more frequent the word count, the larger the size of the word\n",
    "clickwords_wc = WordCloud(width=512, height=512, relative_scaling=0.5, max_words=250, collocations=False).generate(str(cw['Words']))\n",
    "plt.figure(figsize = (10,8), facecolor='k')\n",
    "plt.imshow(clickwords_wc)\n",
    "plt.axis('off')\n",
    "plt.tight_layout(pad=0)\n",
    "plt.show()"
   ]
  },
  {
   "cell_type": "markdown",
   "metadata": {},
   "source": [
    "## Word2Vec"
   ]
  },
  {
   "cell_type": "markdown",
   "metadata": {},
   "source": [
    "<div class=\"alert alert-alert alert-warning\">The Word2Vec model generates takes as its input a large corpus of text and produces a vector space, typically of several hundred dimensions, with each unique word in the corpus being assigned a corresponding vector in the space. Word vectors are positioned in the vector space such that words that share common contexts in the corpus are located in close proximity to one another in the space.</div>"
   ]
  },
  {
   "cell_type": "code",
   "execution_count": 125,
   "metadata": {
    "collapsed": true
   },
   "outputs": [],
   "source": [
    "# Before feeding the corpus into the Word2Vec model, I will need to lemmatize and tokenize each word first\n",
    "\n",
    "from nltk.stem import WordNetLemmatizer\n",
    "from nltk.corpus import stopwords\n",
    "from nltk.tokenize import RegexpTokenizer, sent_tokenize\n",
    "\n",
    "lemmatizer = WordNetLemmatizer()\n",
    "tokenizer = RegexpTokenizer('[\\'a-zA-Z]+')\n",
    "\n",
    "# Lemmatize words, but do not remove stopwords to preserve the order of words for context\n",
    "doc = []\n",
    "for i in range(len(new_corpus['Words'])):\n",
    "    docwords = [lemmatizer.lemmatize(t) for t in tokenizer.tokenize(new_corpus['Words'][i])]\n",
    "    doc.append(docwords) "
   ]
  },
  {
   "cell_type": "code",
   "execution_count": 126,
   "metadata": {
    "collapsed": true
   },
   "outputs": [],
   "source": [
    "new_corpus['word_break'] = doc"
   ]
  },
  {
   "cell_type": "code",
   "execution_count": 127,
   "metadata": {
    "collapsed": true
   },
   "outputs": [],
   "source": [
    "# Specify Word2Vec number of features (i.e. the number of dimensions each word will be mapped to)\n",
    "num_features = 300"
   ]
  },
  {
   "cell_type": "code",
   "execution_count": 128,
   "metadata": {},
   "outputs": [
    {
     "name": "stderr",
     "output_type": "stream",
     "text": [
      "Using TensorFlow backend.\n"
     ]
    }
   ],
   "source": [
    "from gensim.models.word2vec import Word2Vec\n",
    "w2v_ngram = Word2Vec(new_corpus['word_break'], size=num_features, min_count=1, window=10, sg=1)\n",
    "\n",
    "# trains the model with 300 features, \n",
    "# minimum number of counts for a word to be included in the model is 1\n",
    "# the model will run through 10 words at a time\n",
    "# sg=1 refers to the use of skipgram model instead of the CBOW(continuous bag-of-words) method.\n",
    "# CBOW does not take into account the order in which the words are presented\n"
   ]
  },
  {
   "cell_type": "code",
   "execution_count": 129,
   "metadata": {},
   "outputs": [
    {
     "data": {
      "text/plain": [
       "136827"
      ]
     },
     "execution_count": 129,
     "metadata": {},
     "output_type": "execute_result"
    }
   ],
   "source": [
    "# See how many words are in the vocabulary\n",
    "len(w2v_ngram.wv.vocab)"
   ]
  },
  {
   "cell_type": "markdown",
   "metadata": {},
   "source": [
    "### Exploring the words that are most related to the top occurring words from the wordcloud above"
   ]
  },
  {
   "cell_type": "code",
   "execution_count": 130,
   "metadata": {
    "scrolled": true
   },
   "outputs": [
    {
     "data": {
      "text/plain": [
       "[('strawpedos', 0.7235246300697327),\n",
       " ('mazel', 0.6788522005081177),\n",
       " ('notalotofpeopleknowthat', 0.6756964921951294),\n",
       " ('tpaycheck', 0.6750880479812622),\n",
       " ('moneyworld', 0.6750779151916504),\n",
       " ('screenshare', 0.6749424934387207),\n",
       " ('kwelkernbc', 0.671303391456604),\n",
       " ('refraining', 0.6686923503875732),\n",
       " ('depleting', 0.6654508113861084),\n",
       " ('notarized', 0.6652501225471497)]"
      ]
     },
     "execution_count": 130,
     "metadata": {},
     "output_type": "execute_result"
    }
   ],
   "source": [
    "w2v_ngram.most_similar(['create', 'sign', 'log', 'post', 'new', 'year'], topn=10)"
   ]
  },
  {
   "cell_type": "code",
   "execution_count": 131,
   "metadata": {},
   "outputs": [
    {
     "data": {
      "text/plain": [
       "[('creating', 0.6075267195701599),\n",
       " ('reinvent', 0.5619786977767944),\n",
       " ('crowdsourcing', 0.5613309741020203),\n",
       " ('strawpedos', 0.5567101240158081),\n",
       " ('grander', 0.5509200096130371),\n",
       " ('experiential', 0.5493941903114319),\n",
       " ('reorient', 0.545639157295227),\n",
       " ('conjure', 0.5444437265396118),\n",
       " ('build', 0.5434606671333313),\n",
       " (\"cvc's\", 0.5428497195243835)]"
      ]
     },
     "execution_count": 131,
     "metadata": {},
     "output_type": "execute_result"
    }
   ],
   "source": [
    "w2v_ngram.most_similar(['create'], topn=10)"
   ]
  },
  {
   "cell_type": "code",
   "execution_count": 132,
   "metadata": {
    "scrolled": true
   },
   "outputs": [
    {
     "data": {
      "text/plain": [
       "[('newsletter', 0.6009889841079712),\n",
       " ('onparenting', 0.5445947647094727),\n",
       " ('terkel', 0.5290687084197998),\n",
       " ('bloombergbriefs', 0.5285654664039612),\n",
       " ('connect', 0.520905613899231),\n",
       " ('strawpedos', 0.5094450116157532),\n",
       " ('moneyworld', 0.5000960826873779),\n",
       " (\"grim's\", 0.49627047777175903),\n",
       " ('piping', 0.49604693055152893),\n",
       " ('theplaylist', 0.49180951714515686)]"
      ]
     },
     "execution_count": 132,
     "metadata": {},
     "output_type": "execute_result"
    }
   ],
   "source": [
    "w2v_ngram.most_similar(['sign'], topn=10)"
   ]
  },
  {
   "cell_type": "code",
   "execution_count": 133,
   "metadata": {},
   "outputs": [
    {
     "data": {
      "text/plain": [
       "[('strawpedos', 0.5301008224487305),\n",
       " ('cyberintrusion', 0.5061978101730347),\n",
       " ('create', 0.49343323707580566),\n",
       " ('mazel', 0.4799206852912903),\n",
       " ('kwelkernbc', 0.47766053676605225),\n",
       " ('slumbering', 0.47247809171676636),\n",
       " ('weckerly', 0.4607362449169159),\n",
       " (\"utility's\", 0.45820555090904236),\n",
       " ('deregister', 0.45747244358062744),\n",
       " ('inputting', 0.45716285705566406)]"
      ]
     },
     "execution_count": 133,
     "metadata": {},
     "output_type": "execute_result"
    }
   ],
   "source": [
    "w2v_ngram.most_similar(['log'], topn=10)"
   ]
  },
  {
   "cell_type": "code",
   "execution_count": 134,
   "metadata": {},
   "outputs": [
    {
     "data": {
      "text/plain": [
       "[('shared', 0.6130218505859375),\n",
       " (\"p'bone\", 0.6009458303451538),\n",
       " ('bonebone', 0.5824652910232544),\n",
       " ('sydneysmashcakes', 0.5721464157104492),\n",
       " ('blackvoices', 0.5717799067497253),\n",
       " ('designerdaddy', 0.559134840965271),\n",
       " ('teatrzoo', 0.5530307292938232),\n",
       " ('huffington', 0.5522246360778809),\n",
       " ('jul', 0.5513942241668701),\n",
       " ('shawnmendes', 0.5506025552749634)]"
      ]
     },
     "execution_count": 134,
     "metadata": {},
     "output_type": "execute_result"
    }
   ],
   "source": [
    "w2v_ngram.most_similar(['post'], topn=10)"
   ]
  },
  {
   "cell_type": "code",
   "execution_count": 135,
   "metadata": {},
   "outputs": [
    {
     "data": {
      "text/plain": [
       "[('york', 0.6854352951049805),\n",
       " ('fallsburg', 0.5223125219345093),\n",
       " (\"cuomo's\", 0.5210436582565308),\n",
       " ('lennihan', 0.5157123804092407),\n",
       " ('brainstorm', 0.5140136480331421),\n",
       " ('matternet', 0.5065895318984985),\n",
       " ('streeteasy', 0.504841685295105),\n",
       " ('sundararajan', 0.5036032795906067),\n",
       " ('madcap', 0.5019736289978027),\n",
       " ('katzenstein', 0.5001546144485474)]"
      ]
     },
     "execution_count": 135,
     "metadata": {},
     "output_type": "execute_result"
    }
   ],
   "source": [
    "w2v_ngram.most_similar(['new'], topn=10)"
   ]
  },
  {
   "cell_type": "code",
   "execution_count": 136,
   "metadata": {
    "scrolled": true
   },
   "outputs": [
    {
     "data": {
      "text/plain": [
       "[('month', 0.7071107625961304),\n",
       " (u'decade', 0.6619080901145935),\n",
       " (\"dowling's\", 0.5775504112243652),\n",
       " ('mcglone', 0.5734220147132874),\n",
       " ('breezed', 0.5716580152511597),\n",
       " ('expended', 0.5632145404815674),\n",
       " ('rosier', 0.5620723962783813),\n",
       " ('skyrocketed', 0.5616158843040466),\n",
       " ('psnb', 0.5609381794929504),\n",
       " ('ministering', 0.5573949813842773)]"
      ]
     },
     "execution_count": 136,
     "metadata": {},
     "output_type": "execute_result"
    }
   ],
   "source": [
    "w2v_ngram.most_similar(['year'], topn=10)"
   ]
  },
  {
   "cell_type": "code",
   "execution_count": 137,
   "metadata": {
    "scrolled": true
   },
   "outputs": [
    {
     "data": {
      "text/plain": [
       "[('yahoo', 0.7812060117721558),\n",
       " ('twinsterphoto', 0.672163724899292),\n",
       " ('finance', 0.6356829404830933),\n",
       " ('moneyquestions', 0.5619872808456421),\n",
       " ('sonnenfeldt', 0.5548639893531799),\n",
       " ('uriel', 0.5398631691932678),\n",
       " (\"ofmcdonald's\", 0.5356080532073975),\n",
       " (\"ballard's\", 0.5348875522613525),\n",
       " ('hahm', 0.529039740562439),\n",
       " ('minshew', 0.5264647006988525)]"
      ]
     },
     "execution_count": 137,
     "metadata": {},
     "output_type": "execute_result"
    }
   ],
   "source": [
    "w2v_ngram.most_similar(['firefox'], topn=10)"
   ]
  },
  {
   "cell_type": "code",
   "execution_count": 139,
   "metadata": {
    "collapsed": true
   },
   "outputs": [],
   "source": [
    "w2v_ngram.save('./Capstone')"
   ]
  },
  {
   "cell_type": "markdown",
   "metadata": {},
   "source": [
    "### PyLDA for Topic Modelling"
   ]
  },
  {
   "cell_type": "markdown",
   "metadata": {},
   "source": [
    "<div class=\"alert alert-alert alert-warning\">A topic model is a type of statistical model for discovering the abstract \"topics\" that occur in a collection of documents. \n",
    "</div>"
   ]
  },
  {
   "cell_type": "code",
   "execution_count": 140,
   "metadata": {},
   "outputs": [
    {
     "name": "stdout",
     "output_type": "stream",
     "text": [
      "This non-commercial license of GraphLab Create for academic use is assigned to ezekiel.kuang@gmail.com and will expire on October 17, 2018.\n"
     ]
    },
    {
     "name": "stderr",
     "output_type": "stream",
     "text": [
      "[INFO] graphlab.cython.cy_server: GraphLab Create v2.1 started. Logging: /tmp/graphlab_server_1510147475.log\n"
     ]
    }
   ],
   "source": [
    "# meant to be exploratory and not immediately useful to the classification task at hand\n",
    "from __future__ import division\n",
    "\n",
    "import graphlab as gl\n",
    "import pandas as pd\n",
    "import pyLDAvis\n",
    "import pyLDAvis.graphlab \n",
    "\n",
    "pyLDAvis.enable_notebook()"
   ]
  },
  {
   "cell_type": "code",
   "execution_count": 141,
   "metadata": {
    "collapsed": true
   },
   "outputs": [],
   "source": [
    "sa = gl.SArray(doc) # converts the corpus into SArray format for the LDA model to work\n",
    "sa = gl.text_analytics.count_words(sa) # word frequency count, similar to CountVectorizer. Returns a list of dictionaries"
   ]
  },
  {
   "cell_type": "code",
   "execution_count": 147,
   "metadata": {},
   "outputs": [
    {
     "data": {
      "text/html": [
       "<pre>Learning a topic model</pre>"
      ],
      "text/plain": [
       "Learning a topic model"
      ]
     },
     "metadata": {},
     "output_type": "display_data"
    },
    {
     "data": {
      "text/html": [
       "<pre>       Number of documents     19538</pre>"
      ],
      "text/plain": [
       "       Number of documents     19538"
      ]
     },
     "metadata": {},
     "output_type": "display_data"
    },
    {
     "data": {
      "text/html": [
       "<pre>           Vocabulary size    136827</pre>"
      ],
      "text/plain": [
       "           Vocabulary size    136827"
      ]
     },
     "metadata": {},
     "output_type": "display_data"
    },
    {
     "data": {
      "text/html": [
       "<pre>   Running collapsed Gibbs sampling</pre>"
      ],
      "text/plain": [
       "   Running collapsed Gibbs sampling"
      ]
     },
     "metadata": {},
     "output_type": "display_data"
    },
    {
     "data": {
      "text/html": [
       "<pre>+-----------+---------------+----------------+-----------------+</pre>"
      ],
      "text/plain": [
       "+-----------+---------------+----------------+-----------------+"
      ]
     },
     "metadata": {},
     "output_type": "display_data"
    },
    {
     "data": {
      "text/html": [
       "<pre>| Iteration | Elapsed Time  | Tokens/Second  | Est. Perplexity |</pre>"
      ],
      "text/plain": [
       "| Iteration | Elapsed Time  | Tokens/Second  | Est. Perplexity |"
      ]
     },
     "metadata": {},
     "output_type": "display_data"
    },
    {
     "data": {
      "text/html": [
       "<pre>+-----------+---------------+----------------+-----------------+</pre>"
      ],
      "text/plain": [
       "+-----------+---------------+----------------+-----------------+"
      ]
     },
     "metadata": {},
     "output_type": "display_data"
    },
    {
     "data": {
      "text/html": [
       "<pre>| 10        | 12.26s        | 4.94452e+06    | 0               |</pre>"
      ],
      "text/plain": [
       "| 10        | 12.26s        | 4.94452e+06    | 0               |"
      ]
     },
     "metadata": {},
     "output_type": "display_data"
    },
    {
     "data": {
      "text/html": [
       "<pre>| 20        | 26.70s        | 2.84029e+06    | 0               |</pre>"
      ],
      "text/plain": [
       "| 20        | 26.70s        | 2.84029e+06    | 0               |"
      ]
     },
     "metadata": {},
     "output_type": "display_data"
    },
    {
     "data": {
      "text/html": [
       "<pre>| 30        | 40.03s        | 4.14994e+06    | 0               |</pre>"
      ],
      "text/plain": [
       "| 30        | 40.03s        | 4.14994e+06    | 0               |"
      ]
     },
     "metadata": {},
     "output_type": "display_data"
    },
    {
     "data": {
      "text/html": [
       "<pre>| 40        | 53.02s        | 4.38735e+06    | 0               |</pre>"
      ],
      "text/plain": [
       "| 40        | 53.02s        | 4.38735e+06    | 0               |"
      ]
     },
     "metadata": {},
     "output_type": "display_data"
    },
    {
     "data": {
      "text/html": [
       "<pre>| 50        | 1m 5s         | 4.09417e+06    | 0               |</pre>"
      ],
      "text/plain": [
       "| 50        | 1m 5s         | 4.09417e+06    | 0               |"
      ]
     },
     "metadata": {},
     "output_type": "display_data"
    },
    {
     "data": {
      "text/html": [
       "<pre>| 60        | 1m 17s        | 4.9041e+06     | 0               |</pre>"
      ],
      "text/plain": [
       "| 60        | 1m 17s        | 4.9041e+06     | 0               |"
      ]
     },
     "metadata": {},
     "output_type": "display_data"
    },
    {
     "data": {
      "text/html": [
       "<pre>| 70        | 1m 28s        | 4.86227e+06    | 0               |</pre>"
      ],
      "text/plain": [
       "| 70        | 1m 28s        | 4.86227e+06    | 0               |"
      ]
     },
     "metadata": {},
     "output_type": "display_data"
    },
    {
     "data": {
      "text/html": [
       "<pre>| 80        | 1m 39s        | 4.90816e+06    | 0               |</pre>"
      ],
      "text/plain": [
       "| 80        | 1m 39s        | 4.90816e+06    | 0               |"
      ]
     },
     "metadata": {},
     "output_type": "display_data"
    },
    {
     "data": {
      "text/html": [
       "<pre>| 90        | 1m 51s        | 4.60752e+06    | 0               |</pre>"
      ],
      "text/plain": [
       "| 90        | 1m 51s        | 4.60752e+06    | 0               |"
      ]
     },
     "metadata": {},
     "output_type": "display_data"
    },
    {
     "data": {
      "text/html": [
       "<pre>| 100       | 2m 2s         | 4.90976e+06    | 0               |</pre>"
      ],
      "text/plain": [
       "| 100       | 2m 2s         | 4.90976e+06    | 0               |"
      ]
     },
     "metadata": {},
     "output_type": "display_data"
    },
    {
     "data": {
      "text/html": [
       "<pre>| 110       | 2m 14s        | 4.67111e+06    | 0               |</pre>"
      ],
      "text/plain": [
       "| 110       | 2m 14s        | 4.67111e+06    | 0               |"
      ]
     },
     "metadata": {},
     "output_type": "display_data"
    },
    {
     "data": {
      "text/html": [
       "<pre>| 120       | 2m 25s        | 4.85424e+06    | 0               |</pre>"
      ],
      "text/plain": [
       "| 120       | 2m 25s        | 4.85424e+06    | 0               |"
      ]
     },
     "metadata": {},
     "output_type": "display_data"
    },
    {
     "data": {
      "text/html": [
       "<pre>| 130       | 2m 36s        | 4.90169e+06    | 0               |</pre>"
      ],
      "text/plain": [
       "| 130       | 2m 36s        | 4.90169e+06    | 0               |"
      ]
     },
     "metadata": {},
     "output_type": "display_data"
    },
    {
     "data": {
      "text/html": [
       "<pre>| 140       | 2m 48s        | 4.80409e+06    | 0               |</pre>"
      ],
      "text/plain": [
       "| 140       | 2m 48s        | 4.80409e+06    | 0               |"
      ]
     },
     "metadata": {},
     "output_type": "display_data"
    },
    {
     "data": {
      "text/html": [
       "<pre>| 150       | 2m 59s        | 4.58963e+06    | 0               |</pre>"
      ],
      "text/plain": [
       "| 150       | 2m 59s        | 4.58963e+06    | 0               |"
      ]
     },
     "metadata": {},
     "output_type": "display_data"
    },
    {
     "data": {
      "text/html": [
       "<pre>| 160       | 3m 10s        | 4.90123e+06    | 0               |</pre>"
      ],
      "text/plain": [
       "| 160       | 3m 10s        | 4.90123e+06    | 0               |"
      ]
     },
     "metadata": {},
     "output_type": "display_data"
    },
    {
     "data": {
      "text/html": [
       "<pre>| 170       | 3m 22s        | 4.98236e+06    | 0               |</pre>"
      ],
      "text/plain": [
       "| 170       | 3m 22s        | 4.98236e+06    | 0               |"
      ]
     },
     "metadata": {},
     "output_type": "display_data"
    },
    {
     "data": {
      "text/html": [
       "<pre>| 180       | 3m 33s        | 5.03538e+06    | 0               |</pre>"
      ],
      "text/plain": [
       "| 180       | 3m 33s        | 5.03538e+06    | 0               |"
      ]
     },
     "metadata": {},
     "output_type": "display_data"
    },
    {
     "data": {
      "text/html": [
       "<pre>| 190       | 3m 44s        | 4.48539e+06    | 0               |</pre>"
      ],
      "text/plain": [
       "| 190       | 3m 44s        | 4.48539e+06    | 0               |"
      ]
     },
     "metadata": {},
     "output_type": "display_data"
    },
    {
     "data": {
      "text/html": [
       "<pre>| 200       | 3m 55s        | 4.84289e+06    | 0               |</pre>"
      ],
      "text/plain": [
       "| 200       | 3m 55s        | 4.84289e+06    | 0               |"
      ]
     },
     "metadata": {},
     "output_type": "display_data"
    },
    {
     "data": {
      "text/html": [
       "<pre>+-----------+---------------+----------------+-----------------+</pre>"
      ],
      "text/plain": [
       "+-----------+---------------+----------------+-----------------+"
      ]
     },
     "metadata": {},
     "output_type": "display_data"
    }
   ],
   "source": [
    "# creates topic model with 100 topics. \n",
    "# Had tried with 50 topics before but the result was that many topic clusters were just prepositions\n",
    "topic_model = gl.topic_model.create(sa, num_topics=100, num_iterations=200) "
   ]
  },
  {
   "cell_type": "code",
   "execution_count": 148,
   "metadata": {},
   "outputs": [
    {
     "name": "stderr",
     "output_type": "stream",
     "text": [
      "/Users/ezekielkuang/anaconda/lib/python2.7/site-packages/pyLDAvis/_prepare.py:387: DeprecationWarning: \n",
      ".ix is deprecated. Please use\n",
      ".loc for label based indexing or\n",
      ".iloc for positional indexing\n",
      "\n",
      "See the documentation here:\n",
      "http://pandas.pydata.org/pandas-docs/stable/indexing.html#ix-indexer-is-deprecated\n",
      "  topic_term_dists = topic_term_dists.ix[topic_order]\n"
     ]
    }
   ],
   "source": [
    "# generates graph of topics and saves as a html file so it can be viewed later on without retraining\n",
    "pylda = pyLDAvis.graphlab.prepare(topic_model, sa)\n",
    "pyLDAvis.save_html(pylda, 'lda.html')"
   ]
  },
  {
   "cell_type": "markdown",
   "metadata": {},
   "source": [
    "### Topics observed:\n",
    "7 - business<br>\n",
    "8 - family <br>\n",
    "9 - police matters<br>\n",
    "11,16,23,29,25,33,48 - politics/government<br>\n",
    "14 - sports<br>\n",
    "19 - russia<br>\n",
    "24,56,57 - football<br>\n",
    "26 - middle east<br>\n",
    "27 - movies, books and tv<br>\n",
    "28 - health<br>\n",
    "32 - places<br>\n",
    "35 - music and dance<br>\n",
    "37 - taxes and retirement<br>\n",
    "39 - climate change<br>\n",
    "40 - gender issues<br>\n",
    "41 - flights<br>\n",
    "43 - dining<br>\n",
    "44 - weather<br>\n",
    "45 - social media<br>\n",
    "51 - vacation<br>\n",
    "58 - australia<br>\n",
    "59 - transport<br>\n",
    "65 - india<br>\n",
    "68 - education<br>\n",
    "71 - animals<br>\n",
    "72 - religion<br>\n",
    "81 - social media<br>\n",
    "83 - royalty<br>\n",
    "\n"
   ]
  },
  {
   "cell_type": "markdown",
   "metadata": {},
   "source": [
    "<div class=\"alert alert-block alert-warning\">__A note about the terms in PyLDA graph:__<br><br>\n",
    "Lift is defined as the ratio of a term’s probability within a topic to its marginal probability across the corpus. \n",
    "Lambda determines the weight given to the probability of term w under topic k relative to its lift(measuring both on the log scale)<br><br>\n",
    "\n",
    "When lambda = 1, words are ranked solely on probability. Conversely, they are ranked solely by lift when lambda = 0.\n",
    "Lift is the measure of how high the ratio of red to blue bars is (i.e. how exclusive the word is to that given topic). Probability is given by the absolute width of red bars.\n",
    "</div>"
   ]
  },
  {
   "cell_type": "markdown",
   "metadata": {},
   "source": [
    "___"
   ]
  },
  {
   "cell_type": "markdown",
   "metadata": {},
   "source": [
    "<div class=\"alert alert-alert alert-info\">\n",
    "<h2>Model Selection and Implementation</h2>\n",
    "</div>"
   ]
  },
  {
   "cell_type": "markdown",
   "metadata": {},
   "source": [
    "### Models to be used:\n",
    "#### Logistic Regression\n",
    "#### Naive Bayes Classifiers\n",
    "#### SVMs\n",
    "#### Random Forest Classifiers\n",
    "    "
   ]
  },
  {
   "cell_type": "markdown",
   "metadata": {},
   "source": [
    "### Since this is a classification problem, I defined the X and y as follows:"
   ]
  },
  {
   "cell_type": "code",
   "execution_count": 86,
   "metadata": {
    "collapsed": true
   },
   "outputs": [],
   "source": [
    "y = new_corpus['clickbait'].values\n",
    "X = new_corpus['Words'].values\n",
    "# Split dataset into train and test set\n",
    "X_train, X_test, y_train, y_test = train_test_split(X,y, test_size=.3, random_state=42)"
   ]
  },
  {
   "cell_type": "markdown",
   "metadata": {
    "collapsed": true
   },
   "source": [
    "### Will be creating many more pipelines to fit the models from here onward"
   ]
  },
  {
   "cell_type": "code",
   "execution_count": 87,
   "metadata": {
    "collapsed": true
   },
   "outputs": [],
   "source": [
    "log_pipeline = Pipeline([\n",
    "    ('bow', CountVectorizer()),  # strings to token integer counts\n",
    "    ('tfidf', TfidfTransformer()),  # integer counts to weighted TF-IDF scores\n",
    "    ('logit', LogisticRegression()),  # train on TF-IDF vectors w/ logistic regression\n",
    "])"
   ]
  },
  {
   "cell_type": "markdown",
   "metadata": {
    "collapsed": true
   },
   "source": [
    "<div class=\"alert alert-block alert-warning\">Theoretically I could have combined the CountVectorizer and TfidfTransformer steps into one using TfidfVectorizer, but I kept them separate because doing so allows me to specify certain parameters at each step. Will be handy when I do bigrams later.\n",
    "</div>"
   ]
  },
  {
   "cell_type": "code",
   "execution_count": 1,
   "metadata": {
    "collapsed": true
   },
   "outputs": [],
   "source": [
    "# Fit, predict and score the model\n",
    "log_fit = log_pipeline.fit(X_train, y_train)\n",
    "log_pred = log_fit.predict(X_test)\n",
    "log_pred_proba = log_fit.predict_proba(X_test)\n",
    "logr = log_fit.score(X_test, y_test)\n"
   ]
  },
  {
   "cell_type": "code",
   "execution_count": 89,
   "metadata": {},
   "outputs": [
    {
     "name": "stdout",
     "output_type": "stream",
     "text": [
      "             precision    recall  f1-score   support\n",
      "\n",
      "          0       0.82      0.96      0.89      4468\n",
      "          1       0.73      0.32      0.45      1394\n",
      "\n",
      "avg / total       0.80      0.81      0.78      5862\n",
      "\n",
      "0.396414294035\n",
      "0.641842388854\n",
      "0.810644831116\n"
     ]
    }
   ],
   "source": [
    "# Detailed results\n",
    "print classification_report(y_test, log_pred)\n",
    "print average_precision_score(y_test, log_pred)\n",
    "print roc_auc_score(y_test, log_pred)\n",
    "print accuracy_score(y_test, log_pred)"
   ]
  },
  {
   "cell_type": "code",
   "execution_count": 90,
   "metadata": {},
   "outputs": [
    {
     "data": {
      "image/png": "[encoded data removed]",
      "text/plain": [
       "<matplotlib.figure.Figure at 0x1a47551290>"
      ]
     },
     "metadata": {},
     "output_type": "display_data"
    }
   ],
   "source": [
    "from sklearn.metrics import roc_curve, auc\n",
    "fpr, tpr, _ = roc_curve(y_test, log_pred_proba[:,1])\n",
    "roc_auc = auc(fpr, tpr)\n",
    "\n",
    "# Plot of a ROC curve\n",
    "plt.figure(figsize=[6,6])\n",
    "plt.plot(fpr, tpr, label='ROC curve (area = %0.2f)' % roc_auc, linewidth=2)\n",
    "plt.plot([0, 1], [0, 1], 'k--', linewidth=2)\n",
    "plt.xlim([-0.05, 1.0])\n",
    "plt.ylim([-0.05, 1.05])\n",
    "plt.xlabel('False Positive Rate', fontsize=13)\n",
    "plt.ylabel('True Positive Rate', fontsize=13)\n",
    "plt.title('Receiver operating characteristic for log regression', fontsize=13)\n",
    "plt.legend(loc=\"lower right\")\n",
    "plt.show()"
   ]
  },
  {
   "cell_type": "markdown",
   "metadata": {},
   "source": [
    "<div class=\"alert alert-block alert-warning\">The dataset is imbalanced, with roughly three non-clickbait articles for every clickbait article present. I will use random undersampling to balance the dataset. In random undersampling, the majority class (non-clickbait articles) are undersampled.</div>"
   ]
  },
  {
   "cell_type": "code",
   "execution_count": 92,
   "metadata": {},
   "outputs": [
    {
     "name": "stdout",
     "output_type": "stream",
     "text": [
      "0.747867621972\n",
      "             precision    recall  f1-score   support\n",
      "\n",
      "          0       0.88      0.77      0.82      4468\n",
      "          1       0.48      0.67      0.56      1394\n",
      "\n",
      "avg / total       0.79      0.75      0.76      5862\n",
      "\n",
      "0.400186970698\n",
      "0.722566595038\n",
      "0.747867621972\n"
     ]
    }
   ],
   "source": [
    "from imblearn.under_sampling import RandomUnderSampler\n",
    "from imblearn.pipeline import make_pipeline as make_pipeline_imb\n",
    "\n",
    "logpipe = make_pipeline_imb(\n",
    "    TfidfVectorizer(),  # integer counts to weighted TF-IDF scores\n",
    "    RandomUnderSampler(), # undersamples majority class\n",
    "    LogisticRegression()  \n",
    ")\n",
    "\n",
    "logpipe.fit(X_train, y_train)\n",
    "logpipe_pred = logpipe.predict(X_test)\n",
    "logpipe_pred_proba = logpipe.predict_proba(X_test)\n",
    "log2 = logpipe.score(X_test, y_test)\n",
    "print log2\n",
    "print classification_report(y_test, logpipe_pred)\n",
    "print average_precision_score(y_test, logpipe_pred)\n",
    "print roc_auc_score(y_test, logpipe_pred)\n",
    "print accuracy_score(y_test, logpipe_pred)"
   ]
  },
  {
   "cell_type": "markdown",
   "metadata": {},
   "source": [
    "<div class=\"alert alert-alert alert-warning\">\n",
    "Support numbers do not appear to change! Is there a problem? <br><br>\n",
    "Not at all, as I have opted to do the rebalancing BEFORE the classification. <br><br>\n",
    "For RandomUnderSampler(), by default it will resample all classes available to achieve a balanced dataset. In my case, since it is a binary classification, it will undersample the majority class (clickbait articles) in the TRAINING set and fit them into the model. The classification report only outputs samples from the TEST set, which is why the numbers remain the same.\n",
    "</div>"
   ]
  },
  {
   "cell_type": "code",
   "execution_count": 93,
   "metadata": {},
   "outputs": [
    {
     "data": {
      "image/png": "[encoded data removed]",
      "text/plain": [
       "<matplotlib.figure.Figure at 0x1a54b88890>"
      ]
     },
     "metadata": {},
     "output_type": "display_data"
    }
   ],
   "source": [
    "fpr, tpr, _ = roc_curve(y_test, logpipe_pred_proba[:,1])\n",
    "roc_auc = auc(fpr, tpr)\n",
    "\n",
    "# Plot of a ROC curve \n",
    "plt.figure(figsize=[6,6])\n",
    "plt.plot(fpr, tpr, label='ROC curve (area = %0.2f)' % roc_auc, linewidth=2)\n",
    "plt.plot([0, 1], [0, 1], 'k--', linewidth=2)\n",
    "plt.xlim([-0.05, 1.0])\n",
    "plt.ylim([-0.05, 1.05])\n",
    "plt.xlabel('False Positive Rate', fontsize=13)\n",
    "plt.ylabel('True Positive Rate', fontsize=13)\n",
    "plt.title('ROC for undersampled log regression', fontsize=13)\n",
    "plt.legend(loc=\"lower right\")\n",
    "plt.show()"
   ]
  },
  {
   "cell_type": "markdown",
   "metadata": {},
   "source": [
    "### Would using bigrams help? The pipeline below specifies using bigrams for the CountVectorizer class"
   ]
  },
  {
   "cell_type": "code",
   "execution_count": 94,
   "metadata": {
    "collapsed": true
   },
   "outputs": [],
   "source": [
    "log_pipeline2 = Pipeline([\n",
    "    ('bow', CountVectorizer(ngram_range=(1, 2), stop_words='english')), # strings to token integer counts up to bigrams\n",
    "    ('tfidf', TfidfTransformer()),  # integer counts to weighted TF-IDF scores\n",
    "    ('logit', LogisticRegression()),  # train on TF-IDF vectors w/ log regression\n",
    "])"
   ]
  },
  {
   "cell_type": "code",
   "execution_count": 95,
   "metadata": {},
   "outputs": [
    {
     "name": "stdout",
     "output_type": "stream",
     "text": [
      "0.809280109178\n"
     ]
    }
   ],
   "source": [
    "log_fit2 = log_pipeline2.fit(X_train, y_train)\n",
    "log_pred2 = log_fit2.predict(X_test)\n",
    "log_pred_proba2 = log_fit2.predict_proba(X_test)\n",
    "logr2 = log_fit2.score(X_test, y_test)\n",
    "print logr2"
   ]
  },
  {
   "cell_type": "code",
   "execution_count": 96,
   "metadata": {},
   "outputs": [
    {
     "name": "stdout",
     "output_type": "stream",
     "text": [
      "             precision    recall  f1-score   support\n",
      "\n",
      "          0       0.81      0.97      0.89      4468\n",
      "          1       0.76      0.29      0.42      1394\n",
      "\n",
      "avg / total       0.80      0.81      0.77      5862\n",
      "\n",
      "0.38887707889\n",
      "0.630335887658\n",
      "0.810644831116\n"
     ]
    }
   ],
   "source": [
    "print classification_report(y_test, log_pred2)\n",
    "print average_precision_score(y_test, log_pred2)\n",
    "print roc_auc_score(y_test, log_pred2)\n",
    "print accuracy_score(y_test, log_pred)"
   ]
  },
  {
   "cell_type": "markdown",
   "metadata": {},
   "source": [
    "### Bigrams do not appear to improve the scores for log regression"
   ]
  },
  {
   "cell_type": "markdown",
   "metadata": {},
   "source": [
    "___"
   ]
  },
  {
   "cell_type": "markdown",
   "metadata": {},
   "source": [
    "### Naive Bayes classifiers, using unigram up to trigrams"
   ]
  },
  {
   "cell_type": "code",
   "execution_count": 97,
   "metadata": {
    "collapsed": true
   },
   "outputs": [],
   "source": [
    "mnnb_pipeline1 = Pipeline([\n",
    "    ('bow', CountVectorizer(ngram_range=(1, 1), stop_words='english')),  # strings to token integer counts\n",
    "    ('multinom', MultinomialNB()),  # train on TF-IDF vectors w/ multinomial Naive Bayes\n",
    "])\n",
    "\n",
    "mnnb_pipeline2 = Pipeline([\n",
    "    ('bow', CountVectorizer(ngram_range=(1, 3), stop_words='english')),  # strings to token integer counts up to trigrams\n",
    "    ('multinom', MultinomialNB()),  # train on TF-IDF vectors w/ multinomial Naive Bayes\n",
    "])"
   ]
  },
  {
   "cell_type": "code",
   "execution_count": 98,
   "metadata": {},
   "outputs": [
    {
     "name": "stdout",
     "output_type": "stream",
     "text": [
      "0.750085295121\n"
     ]
    }
   ],
   "source": [
    "mnnb_fit1 = mnnb_pipeline1.fit(X_train, y_train)\n",
    "mnnb_pred1 = mnnb_fit1.predict(X_test)\n",
    "mnnb_pred1_proba = mnnb_fit1.predict_proba(X_test)\n",
    "mnb1 = mnnb_fit1.score(X_test, y_test)\n",
    "print mnb1"
   ]
  },
  {
   "cell_type": "code",
   "execution_count": 99,
   "metadata": {},
   "outputs": [
    {
     "name": "stdout",
     "output_type": "stream",
     "text": [
      "             precision    recall  f1-score   support\n",
      "\n",
      "          0       0.87      0.80      0.83      4468\n",
      "          1       0.48      0.61      0.54      1394\n",
      "\n",
      "avg / total       0.77      0.75      0.76      5862\n",
      "\n",
      "0.384331418177\n",
      "0.700331160916\n",
      "0.750085295121\n"
     ]
    }
   ],
   "source": [
    "print classification_report(y_test, mnnb_pred1)\n",
    "print average_precision_score(y_test, mnnb_pred1)\n",
    "print roc_auc_score(y_test, mnnb_pred1)\n",
    "print accuracy_score(y_test, mnnb_pred1)\n"
   ]
  },
  {
   "cell_type": "code",
   "execution_count": 100,
   "metadata": {},
   "outputs": [
    {
     "data": {
      "image/png": "[encoded data removed]",
      "text/plain": [
       "<matplotlib.figure.Figure at 0x1a38286990>"
      ]
     },
     "metadata": {},
     "output_type": "display_data"
    }
   ],
   "source": [
    "fpr, tpr, _ = roc_curve(y_test, mnnb_pred1_proba[:,1])\n",
    "roc_auc = auc(fpr, tpr)\n",
    "\n",
    "# Plot of a ROC curve \n",
    "plt.figure(figsize=[6,6])\n",
    "plt.plot(fpr, tpr, label='ROC curve (area = %0.2f)' % roc_auc, linewidth=2)\n",
    "plt.plot([0, 1], [0, 1], 'k--', linewidth=2)\n",
    "plt.xlim([-0.05, 1.0])\n",
    "plt.ylim([-0.05, 1.05])\n",
    "plt.xlabel('False Positive Rate', fontsize=13)\n",
    "plt.ylabel('True Positive Rate', fontsize=13)\n",
    "plt.title('Receiver operating characteristic for Multinomial NB1', fontsize=13)\n",
    "plt.legend(loc=\"lower right\")\n",
    "plt.show()"
   ]
  },
  {
   "cell_type": "code",
   "execution_count": 101,
   "metadata": {},
   "outputs": [
    {
     "name": "stdout",
     "output_type": "stream",
     "text": [
      "0.783350392358\n"
     ]
    }
   ],
   "source": [
    "mnnb_fit2 = mnnb_pipeline2.fit(X_train, y_train)\n",
    "mnnb_pred2 = mnnb_fit2.predict(X_test)\n",
    "mnnb_pred2_proba = mnnb_fit2.predict_proba(X_test)\n",
    "mnb2 = mnnb_fit2.score(X_test, y_test)\n",
    "print mnb2"
   ]
  },
  {
   "cell_type": "code",
   "execution_count": 102,
   "metadata": {},
   "outputs": [
    {
     "name": "stdout",
     "output_type": "stream",
     "text": [
      "             precision    recall  f1-score   support\n",
      "\n",
      "          0       0.79      0.98      0.87      4468\n",
      "          1       0.69      0.16      0.26      1394\n",
      "\n",
      "avg / total       0.76      0.78      0.73      5862\n",
      "\n",
      "0.311093507705\n",
      "0.569893963\n",
      "0.783350392358\n"
     ]
    }
   ],
   "source": [
    "print classification_report(y_test, mnnb_pred2)\n",
    "print average_precision_score(y_test, mnnb_pred2)\n",
    "print roc_auc_score(y_test, mnnb_pred2)\n",
    "print accuracy_score(y_test, mnnb_pred2)"
   ]
  },
  {
   "cell_type": "code",
   "execution_count": 103,
   "metadata": {},
   "outputs": [
    {
     "data": {
      "image/png": "[encoded data removed]",
      "text/plain": [
       "<matplotlib.figure.Figure at 0x1a6e788550>"
      ]
     },
     "metadata": {},
     "output_type": "display_data"
    }
   ],
   "source": [
    "fpr, tpr, _ = roc_curve(y_test, mnnb_pred2_proba[:,1])\n",
    "roc_auc = auc(fpr, tpr)\n",
    "\n",
    "# Plot of a ROC curve \n",
    "plt.figure(figsize=[6,6])\n",
    "plt.plot(fpr, tpr, label='ROC curve (area = %0.2f)' % roc_auc, linewidth=2)\n",
    "plt.plot([0, 1], [0, 1], 'k--', linewidth=2)\n",
    "plt.xlim([-0.05, 1.0])\n",
    "plt.ylim([-0.05, 1.05])\n",
    "plt.xlabel('False Positive Rate', fontsize=13)\n",
    "plt.ylabel('True Positive Rate', fontsize=13)\n",
    "plt.title('Receiver operating characteristic for Multinomial NB2', fontsize=13)\n",
    "plt.legend(loc=\"lower right\")\n",
    "plt.show()"
   ]
  },
  {
   "cell_type": "code",
   "execution_count": 104,
   "metadata": {},
   "outputs": [
    {
     "name": "stdout",
     "output_type": "stream",
     "text": [
      "0.707267144319\n",
      "             precision    recall  f1-score   support\n",
      "\n",
      "          0       0.89      0.71      0.79      4468\n",
      "          1       0.43      0.71      0.53      1394\n",
      "\n",
      "avg / total       0.78      0.71      0.73      5862\n",
      "\n",
      "0.373436643526\n",
      "0.70703754677\n",
      "0.707267144319\n"
     ]
    }
   ],
   "source": [
    "# Multinomial NB with random undersampling\n",
    "\n",
    "mnnbpipe = make_pipeline_imb(\n",
    "    TfidfVectorizer(),  # integer counts to weighted TF-IDF scores\n",
    "    RandomUnderSampler(),\n",
    "    MultinomialNB()  # train on TF-IDF vectors w/ multinomial Naive Bayes\n",
    ")\n",
    "\n",
    "mnnbpipe.fit(X_train, y_train)\n",
    "mnnbpipe_pred = mnnbpipe.predict(X_test)\n",
    "mnnbpipe_pred_proba = mnnbpipe.predict_proba(X_test)\n",
    "mnnb2 = mnnbpipe.score(X_test, y_test)\n",
    "print mnnb2\n",
    "print classification_report(y_test, mnnbpipe_pred)\n",
    "print average_precision_score(y_test, mnnbpipe_pred)\n",
    "print roc_auc_score(y_test, mnnbpipe_pred)\n",
    "print accuracy_score(y_test, mnnbpipe_pred)\n"
   ]
  },
  {
   "cell_type": "code",
   "execution_count": 105,
   "metadata": {
    "scrolled": false
   },
   "outputs": [
    {
     "data": {
      "image/png": "[encoded data removed]",
      "text/plain": [
       "<matplotlib.figure.Figure at 0x1ae3b98d90>"
      ]
     },
     "metadata": {},
     "output_type": "display_data"
    }
   ],
   "source": [
    "fpr, tpr, _ = roc_curve(y_test, mnnbpipe_pred_proba[:,1])\n",
    "roc_auc = auc(fpr, tpr)\n",
    "\n",
    "# Plot of a ROC curve \n",
    "plt.figure(figsize=[6,6])\n",
    "plt.plot(fpr, tpr, label='ROC curve (area = %0.2f)' % roc_auc, linewidth=2)\n",
    "plt.plot([0, 1], [0, 1], 'k--', linewidth=2)\n",
    "plt.xlim([-0.05, 1.0])\n",
    "plt.ylim([-0.05, 1.05])\n",
    "plt.xlabel('False Positive Rate', fontsize=13)\n",
    "plt.ylabel('True Positive Rate', fontsize=13)\n",
    "plt.title('ROC for undersampled Multinomial NB2', fontsize=13)\n",
    "plt.legend(loc=\"lower right\")\n",
    "plt.show()"
   ]
  },
  {
   "cell_type": "code",
   "execution_count": 106,
   "metadata": {
    "collapsed": true
   },
   "outputs": [],
   "source": [
    "# Bernoulli NB\n",
    "bern_pipeline = Pipeline([\n",
    "    ('bow', CountVectorizer()), # strings to token integer counts\n",
    "    ('bern', BernoulliNB()),  # train on TF-IDF vectors w/ Bernoulli Naive Bayes\n",
    "])"
   ]
  },
  {
   "cell_type": "code",
   "execution_count": 107,
   "metadata": {},
   "outputs": [
    {
     "name": "stdout",
     "output_type": "stream",
     "text": [
      "0.770044353463\n"
     ]
    }
   ],
   "source": [
    "bern_fit = bern_pipeline.fit(X_train, y_train)\n",
    "bern_pred = bern_fit.predict(X_test)\n",
    "bern_pred_proba = bern_fit.predict_proba(X_test)\n",
    "bern = bern_fit.score(X_test, y_test)\n",
    "print bern"
   ]
  },
  {
   "cell_type": "code",
   "execution_count": 108,
   "metadata": {
    "scrolled": true
   },
   "outputs": [
    {
     "name": "stdout",
     "output_type": "stream",
     "text": [
      "             precision    recall  f1-score   support\n",
      "\n",
      "          0       0.82      0.90      0.86      4468\n",
      "          1       0.52      0.36      0.43      1394\n",
      "\n",
      "avg / total       0.75      0.77      0.75      5862\n",
      "\n",
      "0.340495128023\n",
      "0.628534299061\n",
      "0.770044353463\n"
     ]
    }
   ],
   "source": [
    "print classification_report(y_test, bern_pred)\n",
    "print average_precision_score(y_test, bern_pred)\n",
    "print roc_auc_score(y_test, bern_pred)\n",
    "print accuracy_score(y_test, bern_pred)\n"
   ]
  },
  {
   "cell_type": "code",
   "execution_count": 109,
   "metadata": {
    "scrolled": false
   },
   "outputs": [
    {
     "data": {
      "image/png": "[encoded data removed]",
      "text/plain": [
       "<matplotlib.figure.Figure at 0x1a8ff15f10>"
      ]
     },
     "metadata": {},
     "output_type": "display_data"
    }
   ],
   "source": [
    "fpr, tpr, _ = roc_curve(y_test, bern_pred_proba[:,1])\n",
    "roc_auc = auc(fpr, tpr)\n",
    "\n",
    "# Plot of a ROC curve \n",
    "plt.figure(figsize=[6,6])\n",
    "plt.plot(fpr, tpr, label='ROC curve (area = %0.2f)' % roc_auc, linewidth=2)\n",
    "plt.plot([0, 1], [0, 1], 'k--', linewidth=2)\n",
    "plt.xlim([-0.05, 1.0])\n",
    "plt.ylim([-0.05, 1.05])\n",
    "plt.xlabel('False Positive Rate', fontsize=13)\n",
    "plt.ylabel('True Positive Rate', fontsize=13)\n",
    "plt.title('Receiver operating characteristic for Bernoulli NB', fontsize=13)\n",
    "plt.legend(loc=\"lower right\")\n",
    "plt.show()"
   ]
  },
  {
   "cell_type": "code",
   "execution_count": 110,
   "metadata": {},
   "outputs": [
    {
     "name": "stdout",
     "output_type": "stream",
     "text": [
      "0.742238143978\n",
      "             precision    recall  f1-score   support\n",
      "\n",
      "          0       0.86      0.79      0.82      4468\n",
      "          1       0.47      0.59      0.52      1394\n",
      "\n",
      "avg / total       0.77      0.74      0.75      5862\n",
      "\n",
      "0.372450922651\n",
      "0.689260887882\n",
      "0.742238143978\n"
     ]
    }
   ],
   "source": [
    "# Bernoulli NB with random undersampling\n",
    "\n",
    "bernpipe = make_pipeline_imb(\n",
    "    TfidfVectorizer(),  # integer counts to weighted TF-IDF scores\n",
    "    RandomUnderSampler(),\n",
    "    BernoulliNB()  # train on TF-IDF vectors w/ Bernoulli Naive Bayes\n",
    ")\n",
    "\n",
    "bernpipe.fit(X_train, y_train)\n",
    "bernpipe_pred = bernpipe.predict(X_test)\n",
    "bernpipe_pred_proba = bernpipe.predict_proba(X_test)\n",
    "bern2 = bernpipe.score(X_test, y_test)\n",
    "print bern2\n",
    "print classification_report(y_test, bernpipe_pred)\n",
    "print average_precision_score(y_test, bernpipe_pred)\n",
    "print roc_auc_score(y_test, bernpipe_pred)\n",
    "print accuracy_score(y_test, bernpipe_pred)"
   ]
  },
  {
   "cell_type": "code",
   "execution_count": 122,
   "metadata": {},
   "outputs": [
    {
     "data": {
      "image/png": "[encoded data removed]",
      "text/plain": [
       "<matplotlib.figure.Figure at 0x1aa6396690>"
      ]
     },
     "metadata": {},
     "output_type": "display_data"
    }
   ],
   "source": [
    "fpr, tpr, _ = roc_curve(y_test, bernpipe_pred_proba[:,1])\n",
    "roc_auc = auc(fpr, tpr)\n",
    "\n",
    "# Plot of a ROC curve \n",
    "plt.figure(figsize=[6,6])\n",
    "plt.plot(fpr, tpr, label='ROC curve (area = %0.2f)' % roc_auc, linewidth=2)\n",
    "plt.plot([0, 1], [0, 1], 'k--', linewidth=2)\n",
    "plt.xlim([-0.05, 1.0])\n",
    "plt.ylim([-0.05, 1.05])\n",
    "plt.xlabel('False Positive Rate', fontsize=13)\n",
    "plt.ylabel('True Positive Rate', fontsize=13)\n",
    "plt.title('ROC for undersampled Bernoulli NB', fontsize=13)\n",
    "plt.legend(loc=\"lower right\")\n",
    "plt.show()"
   ]
  },
  {
   "cell_type": "markdown",
   "metadata": {},
   "source": [
    "### Would SVMs perform better?"
   ]
  },
  {
   "cell_type": "code",
   "execution_count": 112,
   "metadata": {
    "collapsed": true
   },
   "outputs": [],
   "source": [
    "# SVM using linear kernel\n",
    "\n",
    "from sklearn.svm import LinearSVC\n",
    "svc_pipeline = Pipeline([\n",
    "    ('bow', CountVectorizer()),  # strings to token integer counts\n",
    "    ('tfidf', TfidfTransformer()),  # integer counts to weighted TF-IDF scores\n",
    "    ('linsvc', LinearSVC()),  # train on TF-IDF vectors w/ SVM\n",
    "])"
   ]
  },
  {
   "cell_type": "code",
   "execution_count": 113,
   "metadata": {},
   "outputs": [
    {
     "name": "stdout",
     "output_type": "stream",
     "text": [
      "0.796997611737\n"
     ]
    }
   ],
   "source": [
    "svc_fit = svc_pipeline.fit(X_train, y_train)\n",
    "svc_pred = svc_fit.predict(X_test)\n",
    "svc = svc_fit.score(X_test, y_test)\n",
    "print svc"
   ]
  },
  {
   "cell_type": "code",
   "execution_count": 114,
   "metadata": {
    "scrolled": true
   },
   "outputs": [
    {
     "name": "stdout",
     "output_type": "stream",
     "text": [
      "             precision    recall  f1-score   support\n",
      "\n",
      "          0       0.83      0.92      0.87      4468\n",
      "          1       0.61      0.41      0.49      1394\n",
      "\n",
      "avg / total       0.78      0.80      0.78      5862\n",
      "\n",
      "0.389231134155\n",
      "0.662996163376\n",
      "0.796997611737\n"
     ]
    }
   ],
   "source": [
    "print classification_report(y_test, svc_pred)\n",
    "print average_precision_score(y_test, svc_pred)\n",
    "print roc_auc_score(y_test, svc_pred)\n",
    "print accuracy_score(y_test, svc_pred)"
   ]
  },
  {
   "cell_type": "code",
   "execution_count": 115,
   "metadata": {},
   "outputs": [
    {
     "name": "stdout",
     "output_type": "stream",
     "text": [
      "0.71340839304\n",
      "             precision    recall  f1-score   support\n",
      "\n",
      "          0       0.88      0.72      0.79      4468\n",
      "          1       0.43      0.68      0.53      1394\n",
      "\n",
      "avg / total       0.77      0.71      0.73      5862\n",
      "\n",
      "0.371725495126\n",
      "0.702182361033\n",
      "0.71340839304\n"
     ]
    }
   ],
   "source": [
    "# SVM with random undersampling\n",
    "\n",
    "svcpipe = make_pipeline_imb(\n",
    "    TfidfVectorizer(),  # integer counts to weighted TF-IDF scores\n",
    "    RandomUnderSampler(),\n",
    "    LinearSVC()  # train on TF-IDF vectors w/ SVM\n",
    ")\n",
    "\n",
    "svcpipe.fit(X_train, y_train)\n",
    "svcpipe_pred = svcpipe.predict(X_test)\n",
    "svc2 = svcpipe.score(X_test, y_test)\n",
    "print svc2\n",
    "print classification_report(y_test, svcpipe_pred)\n",
    "print average_precision_score(y_test, svcpipe_pred)\n",
    "print roc_auc_score(y_test, svcpipe_pred)\n",
    "print accuracy_score(y_test, svcpipe_pred)\n"
   ]
  },
  {
   "cell_type": "markdown",
   "metadata": {},
   "source": [
    "### What about Random Forest Classifiers?"
   ]
  },
  {
   "cell_type": "code",
   "execution_count": 116,
   "metadata": {
    "collapsed": true
   },
   "outputs": [],
   "source": [
    "from sklearn.ensemble import RandomForestClassifier\n",
    "\n",
    "randomforest_pipeline = Pipeline([\n",
    "    ('bow', CountVectorizer()),  # strings to token integer counts\n",
    "    ('tfidf', TfidfTransformer()),  # integer counts to weighted TF-IDF scores\n",
    "    ('random', RandomForestClassifier()),  # train on TF-IDF vectors w/ multinomial Naive Bayes\n",
    "])"
   ]
  },
  {
   "cell_type": "code",
   "execution_count": 117,
   "metadata": {},
   "outputs": [
    {
     "name": "stdout",
     "output_type": "stream",
     "text": [
      "0.791879904469\n"
     ]
    }
   ],
   "source": [
    "randfor_fit = randomforest_pipeline.fit(X_train, y_train)\n",
    "randfor_pred = randfor_fit.predict(X_test)\n",
    "randfor_proba = randfor_fit.predict_proba(X_test)\n",
    "randomforest = randfor_fit.score(X_test, y_test)\n",
    "print randomforest"
   ]
  },
  {
   "cell_type": "code",
   "execution_count": 118,
   "metadata": {
    "scrolled": true
   },
   "outputs": [
    {
     "name": "stdout",
     "output_type": "stream",
     "text": [
      "             precision    recall  f1-score   support\n",
      "\n",
      "          0       0.80      0.97      0.88      4468\n",
      "          1       0.70      0.22      0.33      1394\n",
      "\n",
      "avg / total       0.78      0.79      0.75      5862\n",
      "\n",
      "0.338567923674\n",
      "0.594244068132\n",
      "0.791879904469\n"
     ]
    }
   ],
   "source": [
    "print classification_report(y_test, randfor_pred)\n",
    "print average_precision_score(y_test, randfor_pred)\n",
    "print roc_auc_score(y_test, randfor_pred)\n",
    "print accuracy_score(y_test, randfor_pred)"
   ]
  },
  {
   "cell_type": "code",
   "execution_count": 119,
   "metadata": {
    "scrolled": false
   },
   "outputs": [
    {
     "data": {
      "image/png": "[encoded data removed]",
      "text/plain": [
       "<matplotlib.figure.Figure at 0x1a8357e090>"
      ]
     },
     "metadata": {},
     "output_type": "display_data"
    }
   ],
   "source": [
    "fpr, tpr, _ = roc_curve(y_test, randfor_proba[:,1])\n",
    "roc_auc = auc(fpr, tpr)\n",
    "\n",
    "# Plot of a ROC curve \n",
    "plt.figure(figsize=[6,6])\n",
    "plt.plot(fpr, tpr, label='ROC curve (area = %0.2f)' % roc_auc, linewidth=2)\n",
    "plt.plot([0, 1], [0, 1], 'k--', linewidth=2)\n",
    "plt.xlim([-0.05, 1.0])\n",
    "plt.ylim([-0.05, 1.05])\n",
    "plt.xlabel('False Positive Rate', fontsize=13)\n",
    "plt.ylabel('True Positive Rate', fontsize=13)\n",
    "plt.title('Receiver operating characteristic for Random Forest', fontsize=13)\n",
    "plt.legend(loc=\"lower right\")\n",
    "plt.show()"
   ]
  },
  {
   "cell_type": "code",
   "execution_count": 120,
   "metadata": {},
   "outputs": [
    {
     "name": "stdout",
     "output_type": "stream",
     "text": [
      "0.719379051518\n",
      "             precision    recall  f1-score   support\n",
      "\n",
      "          0       0.85      0.77      0.81      4468\n",
      "          1       0.43      0.56      0.49      1394\n",
      "\n",
      "avg / total       0.75      0.72      0.73      5862\n",
      "\n",
      "0.345193849674\n",
      "0.663654118109\n",
      "0.719379051518\n"
     ]
    }
   ],
   "source": [
    "# Random Forest with random undersampling\n",
    "\n",
    "rfcpipe = make_pipeline_imb(\n",
    "    TfidfVectorizer(),  # integer counts to weighted TF-IDF scores\n",
    "    RandomUnderSampler(),\n",
    "    RandomForestClassifier()  # train on TF-IDF vectors w/ Random Forest Classifier\n",
    ")\n",
    "\n",
    "rfcpipe.fit(X_train, y_train)\n",
    "rfcpipe_pred = rfcpipe.predict(X_test)\n",
    "rfcpipe_pred_proba = rfcpipe.predict_proba(X_test)\n",
    "rfc2 = rfcpipe.score(X_test, y_test)\n",
    "print rfc2\n",
    "print classification_report(y_test, rfcpipe_pred)\n",
    "print average_precision_score(y_test, rfcpipe_pred)\n",
    "print roc_auc_score(y_test, rfcpipe_pred)\n",
    "print accuracy_score(y_test, rfcpipe_pred)"
   ]
  },
  {
   "cell_type": "code",
   "execution_count": 121,
   "metadata": {
    "scrolled": false
   },
   "outputs": [
    {
     "data": {
      "image/png": "[encoded data removed]",
      "text/plain": [
       "<matplotlib.figure.Figure at 0x1a837a76d0>"
      ]
     },
     "metadata": {},
     "output_type": "display_data"
    }
   ],
   "source": [
    "fpr, tpr, _ = roc_curve(y_test, rfcpipe_pred_proba[:,1])\n",
    "roc_auc = auc(fpr, tpr)\n",
    "\n",
    "# Plot of a ROC curve \n",
    "plt.figure(figsize=[6,6])\n",
    "plt.plot(fpr, tpr, label='ROC curve (area = %0.2f)' % roc_auc, linewidth=2)\n",
    "plt.plot([0, 1], [0, 1], 'k--', linewidth=2)\n",
    "plt.xlim([-0.05, 1.0])\n",
    "plt.ylim([-0.05, 1.05])\n",
    "plt.xlabel('False Positive Rate', fontsize=13)\n",
    "plt.ylabel('True Positive Rate', fontsize=13)\n",
    "plt.title('ROC for undersampled Random Forest', fontsize=13)\n",
    "plt.legend(loc=\"lower right\")\n",
    "plt.show()"
   ]
  },
  {
   "cell_type": "markdown",
   "metadata": {},
   "source": [
    "___"
   ]
  },
  {
   "cell_type": "code",
   "execution_count": 131,
   "metadata": {},
   "outputs": [
    {
     "name": "stdout",
     "output_type": "stream",
     "text": [
      "           f1-score  precision  recall  support\n",
      "0              0.82       0.88    0.77   4468.0\n",
      "1              0.56       0.48    0.67   1394.0\n",
      "avg/total      0.69       0.68    0.72   5862.0\n",
      "           f1-score  precision  recall  support\n",
      "0              0.79       0.89    0.71   4468.0\n",
      "1              0.53       0.43    0.71   1394.0\n",
      "avg/total      0.66       0.66    0.71   5862.0\n",
      "           f1-score  precision  recall  support\n",
      "0              0.82       0.86    0.79   4468.0\n",
      "1              0.52       0.47    0.59   1394.0\n",
      "avg/total      0.67       0.67    0.69   5862.0\n",
      "           f1-score  precision  recall  support\n",
      "0              0.79       0.88    0.72   4468.0\n",
      "1              0.53       0.43    0.68   1394.0\n",
      "avg/total      0.66       0.66    0.70   5862.0\n",
      "           f1-score  precision  recall  support\n",
      "0              0.81       0.85    0.77   4468.0\n",
      "1              0.49       0.43    0.56   1394.0\n",
      "avg/total      0.65       0.64    0.67   5862.0\n"
     ]
    }
   ],
   "source": [
    "from sklearn.metrics import precision_recall_fscore_support\n",
    "\n",
    "def score_extraction(report, pred, classes):\n",
    "    \n",
    "    \"\"\"function to convert the results of sklearn's classification report into a dataframe\"\"\"\n",
    "    \n",
    "    clf_rep = precision_recall_fscore_support(y_test, pred)\n",
    "    out_dict = {\n",
    "                 \"precision\" :clf_rep[0].round(2)\n",
    "                ,\"recall\" : clf_rep[1].round(2)\n",
    "                ,\"f1-score\" : clf_rep[2].round(2)\n",
    "                ,\"support\" : clf_rep[3]\n",
    "                }\n",
    "    out_df = pd.DataFrame(out_dict, index = classes.classes_)\n",
    "    avg_tot = (out_df.apply(lambda x: round(x.mean(), 2) if x.name!=\"support\" else  round(x.sum(), 2)).to_frame().T)\n",
    "    avg_tot.index = [\"avg/total\"]\n",
    "    out_df = out_df.append(avg_tot)\n",
    "    print out_df\n",
    "    return out_df\n",
    "\n",
    "se_log = score_extraction(y_test, logpipe_pred, logpipe)\n",
    "se_mnnb = score_extraction(y_test, mnnbpipe_pred, mnnbpipe)\n",
    "se_bern = score_extraction(y_test, bernpipe_pred, bernpipe)\n",
    "se_svc = score_extraction(y_test, svcpipe_pred, svcpipe)\n",
    "se_rfc = score_extraction(y_test, rfcpipe_pred, rfcpipe)"
   ]
  },
  {
   "cell_type": "code",
   "execution_count": 150,
   "metadata": {
    "collapsed": true
   },
   "outputs": [],
   "source": [
    "# selecting best model and output the predictions and actual texts into a csv file for cool visual representation\n",
    "cfd = pd.DataFrame({'expected':y_test, 'predicted':mnnbpipe_pred,'text':[text[:1000] + '...' for text in X_test]})\n",
    "cfd.to_csv('cfd.csv')"
   ]
  },
  {
   "cell_type": "markdown",
   "metadata": {},
   "source": [
    "<div class=\"alert alert-block alert-info\">\n",
    "<h2> Conclusions so far</h2><br>\n",
    "1. Balancing the datasets significantly improves the models' recall scores, at the expense of overall f1 scores <br>\n",
    "2. When considering the recall scores for undersampled models, Multinomial NB > SVM > Log Regression > Bernoulli NB > Random Forest<br>\n",
    "3. Bigrams do not appear to improve model scores, which is surprising (or it could be my own oversight in implementing)\n",
    "\n",
    "</div>"
   ]
  },
  {
   "cell_type": "code",
   "execution_count": 141,
   "metadata": {
    "collapsed": true
   },
   "outputs": [],
   "source": [
    "# to add in visualizations for the above later"
   ]
  },
  {
   "cell_type": "code",
   "execution_count": 142,
   "metadata": {
    "collapsed": true
   },
   "outputs": [],
   "source": [
    "# save to pickle file\n",
    "new_corpus.to_pickle('new_corpus.pickle')"
   ]
  },
  {
   "cell_type": "code",
   "execution_count": null,
   "metadata": {
    "collapsed": true
   },
   "outputs": [],
   "source": [
    "import pickle\n",
    "f = open('./new_corpus.pickle','rb')\n",
    "new_corpus = pickle.load(f)"
   ]
  },
  {
   "cell_type": "markdown",
   "metadata": {},
   "source": [
    "\n",
    "____"
   ]
  },
  {
   "cell_type": "markdown",
   "metadata": {},
   "source": [
    "### Not being satisfied with the scores that I obtained above, I sought to test out using LSTM RNNs for classifying the clickbait articles."
   ]
  },
  {
   "cell_type": "markdown",
   "metadata": {},
   "source": [
    "## Keras Model"
   ]
  },
  {
   "cell_type": "code",
   "execution_count": 143,
   "metadata": {},
   "outputs": [
    {
     "name": "stderr",
     "output_type": "stream",
     "text": [
      "Using TensorFlow backend.\n"
     ]
    }
   ],
   "source": [
    "from keras.preprocessing.text import Tokenizer\n",
    "from keras.preprocessing.sequence import pad_sequences\n",
    "from keras.layers import Dense, Input, LSTM, Embedding, Flatten, Dropout\n",
    "from keras.models import Model, Sequential"
   ]
  },
  {
   "cell_type": "code",
   "execution_count": 149,
   "metadata": {},
   "outputs": [
    {
     "name": "stdout",
     "output_type": "stream",
     "text": [
      "Loaded 400000 word vectors.\n"
     ]
    }
   ],
   "source": [
    "# Loads pre-trained word vectors from the Glove dataset from the Stanford NLP Group\n",
    "# This dataset contains 6 bn tokens with a vocabulary of 400k, taken from Wikipedia 2014 + Gigaword 5 articles\n",
    "# Each word may be expressed as a vector with 50, 100, 200 or 300 dimensions (100 in this case)\n",
    "# The result is a dictionary, embeddings_index with words as its key and the 100-d vector as its value\n",
    "\n",
    "embeddings_index = {}\n",
    "glove_data = '../Glove/glove.6B.100d.txt'\n",
    "f = open(glove_data)\n",
    "for line in f:\n",
    "    values = line.split()\n",
    "    word = values[0]\n",
    "    value = np.asarray(values[1:], dtype='float32')\n",
    "    embeddings_index[word] = value\n",
    "f.close()\n",
    "\n",
    "print('Loaded %s word vectors.' % len(embeddings_index))\n"
   ]
  },
  {
   "cell_type": "code",
   "execution_count": 144,
   "metadata": {
    "collapsed": true
   },
   "outputs": [],
   "source": [
    "# Instantiate Tokenizer class and use it to tokenize the strings of text \n",
    "tokenizer = Tokenizer()\n",
    "tokenizer.fit_on_texts(new_corpus['Words']) # method to fit the text to train on\n",
    "X2 = tokenizer.texts_to_sequences(new_corpus['Words']) # list of word indexes, where the word of rank i in the dataset (starting at 1) has index i)\n",
    "X2 = pad_sequences(X2, maxlen=100) # limits maximum sequence length of 100"
   ]
  },
  {
   "cell_type": "markdown",
   "metadata": {},
   "source": [
    "<div class=\"alert alert-alert alert-warning\">\n",
    "The steps above has the effect of expressing each article in the corpus into a sequence of 100 numbers, where every number is a reference to the word's index, as shown below:</div>"
   ]
  },
  {
   "cell_type": "code",
   "execution_count": 145,
   "metadata": {
    "scrolled": true
   },
   "outputs": [
    {
     "data": {
      "text/plain": [
       "(19538, 100)"
      ]
     },
     "execution_count": 145,
     "metadata": {},
     "output_type": "execute_result"
    }
   ],
   "source": [
    "X2.shape"
   ]
  },
  {
   "cell_type": "code",
   "execution_count": 148,
   "metadata": {},
   "outputs": [
    {
     "data": {
      "text/plain": [
       "array([[ 3127,  9404,     1,  2739,   821,     5,   490,  1680,    11,\n",
       "        15488,  5411,    19,     3,   603,  3681,   736,  2805,   434,\n",
       "         7374,     6, 11265,     5,     1,   454,     7,    78,  7403,\n",
       "          170,    15,   684,  4050,     4,  6520,   587,   602,   880,\n",
       "         1084,  5987,     8,   281, 11072,  2522,     4,   315,  2212,\n",
       "        27957,  1556,     2,   557,  6178, 15489, 24442,     1,   412,\n",
       "          409,     5, 25210,     1,   712,   660,  2893,   232,    98,\n",
       "            1, 19526,    18,   590,    40,  1429,   225,  3041,    74,\n",
       "          659,   942,     5,  2893,   131,     1,   712,   943,     9,\n",
       "            1,  2040,     5,    28,  2003,     5,   382,   677,     2,\n",
       "            1, 11834,  3840,     4,     5,   382,  3323,    19,    78,\n",
       "         1225],\n",
       "       [   30,     2,    21, 37530,  8161,     2,  6018,   154,    21,\n",
       "         4021,     8,   402,   231,     8,     1,    88,  2536,  3144,\n",
       "         6018,    22,  3419,    34,   146,  9609,    11,    38,   241,\n",
       "            3, 40165,  7747,   170,    15, 16854,  3121, 70274,  3933,\n",
       "           38, 23079,    31,    46, 10773,  3072,     4,  9680,    19,\n",
       "            1,  6018,     4,    55,     1,  2135,  6018,   786, 16030,\n",
       "           38,   203,   456,    64,  1469, 10178, 31843,    17,     1,\n",
       "          186,  8791,     6, 59262,     5,     1,  4587,  3144,  3072,\n",
       "          364,     1,   887,    10, 91390,  3144,  3072,    10,   501,\n",
       "           48,    12,   427,     2,  6018,   419, 17759,    16,    29,\n",
       "           62,    23,     2,  3934,    12,  3419,  3144,  6018,    19,\n",
       "         8247]], dtype=int32)"
      ]
     },
     "execution_count": 148,
     "metadata": {},
     "output_type": "execute_result"
    }
   ],
   "source": [
    "X2[:2]"
   ]
  },
  {
   "cell_type": "code",
   "execution_count": 160,
   "metadata": {
    "collapsed": true
   },
   "outputs": [],
   "source": [
    "embedding_dimension = 100\n",
    "word_index = tokenizer.word_index # dictionary mapping corpus words (str) to their rank/index (int)\n"
   ]
  },
  {
   "cell_type": "code",
   "execution_count": 161,
   "metadata": {
    "collapsed": true
   },
   "outputs": [],
   "source": [
    "# The embedding_matrix matrix maps words to vectors in the specified embedding dimension shown above (100)\n",
    "embedding_matrix = np.zeros((len(word_index) + 1, embedding_dimension)) # set up array of zeros with dimensions equal to vocabulary size and embedding dimensions\n",
    "for word, i in word_index.items():\n",
    "    embedding_vector = embeddings_index.get(word) # returns value (100-d vectors) for the given key (word)\n",
    "    if embedding_vector is not None:\n",
    "        # words not found in embedding index will be all-zeros.\n",
    "        embedding_matrix[i] = embedding_vector[:embedding_dimension]\n"
   ]
  },
  {
   "cell_type": "code",
   "execution_count": 162,
   "metadata": {},
   "outputs": [
    {
     "data": {
      "text/plain": [
       "(156613, 100)"
      ]
     },
     "execution_count": 162,
     "metadata": {},
     "output_type": "execute_result"
    }
   ],
   "source": [
    "# End up with an embedding matrix equivalent to the vocabulary size. \n",
    "# Each word in the vocabulary is represented by a 100-d vector\n",
    "embedding_matrix.shape\n"
   ]
  },
  {
   "cell_type": "code",
   "execution_count": 163,
   "metadata": {
    "collapsed": true
   },
   "outputs": [],
   "source": [
    "# Specifies parameters for the embedding layer to be used in the model\n",
    "embedding_layer = Embedding(embedding_matrix.shape[0],\n",
    "                            embedding_matrix.shape[1],\n",
    "                            weights=[embedding_matrix],\n",
    "                            input_length=100, trainable=False)"
   ]
  },
  {
   "cell_type": "code",
   "execution_count": 164,
   "metadata": {
    "collapsed": true
   },
   "outputs": [],
   "source": [
    "# Building the model\n",
    "model = Sequential()\n",
    "model.add(embedding_layer)\n",
    "model.add(LSTM(128)) \n",
    "model.add(Dropout(0.2)) # to prevent overfitting\n",
    "model.add(Dense(1, activation='sigmoid')) \n",
    "model.compile(loss='binary_crossentropy', optimizer='adam', metrics=['accuracy'])"
   ]
  },
  {
   "cell_type": "code",
   "execution_count": 165,
   "metadata": {},
   "outputs": [
    {
     "name": "stdout",
     "output_type": "stream",
     "text": [
      "_________________________________________________________________\n",
      "Layer (type)                 Output Shape              Param #   \n",
      "=================================================================\n",
      "embedding_1 (Embedding)      (None, 100, 100)          15661300  \n",
      "_________________________________________________________________\n",
      "lstm_1 (LSTM)                (None, 128)               117248    \n",
      "_________________________________________________________________\n",
      "dropout_1 (Dropout)          (None, 128)               0         \n",
      "_________________________________________________________________\n",
      "dense_1 (Dense)              (None, 1)                 129       \n",
      "=================================================================\n",
      "Total params: 15,778,677\n",
      "Trainable params: 117,377\n",
      "Non-trainable params: 15,661,300\n",
      "_________________________________________________________________\n",
      "None\n",
      "Train on 15630 samples, validate on 3908 samples\n",
      "Epoch 1/10\n",
      "15630/15630 [==============================] - 174s - loss: 0.5001 - acc: 0.7858 - val_loss: 0.4914 - val_acc: 0.7963\n",
      "Epoch 2/10\n",
      "15630/15630 [==============================] - 160s - loss: 0.4720 - acc: 0.7939 - val_loss: 0.4814 - val_acc: 0.8032\n",
      "Epoch 3/10\n",
      "15630/15630 [==============================] - 164s - loss: 0.4671 - acc: 0.7984 - val_loss: 0.4664 - val_acc: 0.8035\n",
      "Epoch 4/10\n",
      "15630/15630 [==============================] - 160s - loss: 0.4549 - acc: 0.8007 - val_loss: 0.4632 - val_acc: 0.8068\n",
      "Epoch 5/10\n",
      "15630/15630 [==============================] - 158s - loss: 0.4466 - acc: 0.8052 - val_loss: 0.4691 - val_acc: 0.8060\n",
      "Epoch 6/10\n",
      "15630/15630 [==============================] - 162s - loss: 0.4408 - acc: 0.8073 - val_loss: 0.4650 - val_acc: 0.7996\n",
      "Epoch 7/10\n",
      "15630/15630 [==============================] - 217s - loss: 0.4304 - acc: 0.8111 - val_loss: 0.4754 - val_acc: 0.8035\n",
      "Epoch 8/10\n",
      "15630/15630 [==============================] - 229s - loss: 0.4219 - acc: 0.8148 - val_loss: 0.4736 - val_acc: 0.7986\n",
      "Epoch 9/10\n",
      "15630/15630 [==============================] - 218s - loss: 0.4123 - acc: 0.8184 - val_loss: 0.4908 - val_acc: 0.8012\n",
      "Epoch 10/10\n",
      "15630/15630 [==============================] - 171s - loss: 0.3946 - acc: 0.8285 - val_loss: 0.4896 - val_acc: 0.7838\n",
      "{'acc': [0.78579654509793928, 0.79385796545868259, 0.79840051182858551, 0.80070377479969346, 0.80518234167355263, 0.80729366603449837, 0.81113243762758858, 0.81484325013706793, 0.81836212413553544, 0.82853486885722449], 'loss': [0.50007242813220176, 0.47204671154324246, 0.46708727615884843, 0.45489051550989035, 0.44662692896921669, 0.44076137044684521, 0.43042028166892354, 0.42185769929995692, 0.41231950638161513, 0.39457578716259772], 'val_acc': [0.79631525076765608, 0.80322415557830096, 0.80348004094165815, 0.80680655066530194, 0.80603889457523026, 0.79964176049129987, 0.80348004094165815, 0.798618219037871, 0.80117707267144322, 0.78377686796315249], 'val_loss': [0.49135306382984562, 0.48138755169471187, 0.46641934820915076, 0.46320242986098281, 0.46913036585098156, 0.46495269026946628, 0.4754382204130948, 0.4736136574462102, 0.49082506471671006, 0.48956910764060707]}\n",
      "19538/19538 [==============================] - 75s    \n",
      "Accuracy: 82.61%\n",
      "CPU times: user 3 µs, sys: 2 µs, total: 5 µs\n",
      "Wall time: 18.8 µs\n"
     ]
    }
   ],
   "source": [
    "print(model.summary())\n",
    "m1 = model.fit(X2, y, epochs=10, batch_size=64, validation_split=0.2, shuffle=True)\n",
    "print m1.history\n",
    "# Final evaluation of the model\n",
    "scores = model.evaluate(X2, y, verbose=1)\n",
    "print(\"Accuracy: %.2f%%\" % (scores[1]*100))\n",
    "\n",
    "%time"
   ]
  },
  {
   "cell_type": "markdown",
   "metadata": {},
   "source": [
    "<div class=\"alert alert-block alert-warning\">\n",
    "Training the model for 10 epochs is probably too much, as the accuracy starts to peak at epoch 4 and then goes downwards from there<br><br>\n",
    "Experimentation with many different configurations of batch size, number of epochs and vector dimensions have not made much difference to the accuracy, as they give similar results with accuracy peaking out at ~80-85%\n",
    "\n",
    "</div>"
   ]
  },
  {
   "cell_type": "markdown",
   "metadata": {},
   "source": [
    "<div class=\"alert alert-block alert-info\">\n",
    "<h3> Overall Observations and Conclusions</h3><br>\n",
    "1. A good model relies on having a very large corpus of text to learn its vocabulary from. Compared to datasets used in standard packages in NLP (e.g. Glove), my corpus appears to be too small. But large datasets have a tradeoff in that they take significantly longer times and computing resources to train. I believe my model's level of accuracy is still acceptable, relative to the training time taken.<br><br>\n",
    "2. The use of simplistic Naive Bayes classifiers in predicting clickbait articles can do most of the heavy lifting, getting up to 70% of the job done (after balancing the dataset). The use of neural networks can help, as seen in my use of a LSTM RNN model, but I wonder whether the model will do as well when exposed to a completely new corpus.<br><br>\n",
    "3. There are many potential areas for improvement. For one, there are already papers published on the use of character-level RNNs, where every token is a single letter in the corpus. I did not consider the implementation of this model since my project is a classification problem, not a text-generative one. Another way to refine the model would be to introduce additional feature engineering that may help in classifying, e.g. using POS(part-of-speech) tagging to allow the model to better understand context within a sentence. Last but not least. <br><br>\n",
    "4. Text data is unstructured, messy and hard to preprocess. There are dozens of scenarios that a regex has to take into account for it to properly clean the data. It is also hard to visualize given its high-dimensionality. Many errors can be made in between the steps of preprocessing and model training, without an easy way to spot them.<br><br>\n",
    "5. At the end of the day, as with all models, (garbage in = garbage out). Admittedly, my preprocessing steps only sought to remove basic items such as punctuation and unicode format. I note that articles may sometimes contain email addresses and emojis. There were also several words with spelling errors that I did not correct. A thorough cleaning of the dataset should be able to factor in all the above to ensure a better score.\n",
    "\n",
    "\n",
    "</div>"
   ]
  }
 ],
 "metadata": {
  "kernelspec": {
   "display_name": "Python 2",
   "language": "python",
   "name": "python2"
  },
  "language_info": {
   "codemirror_mode": {
    "name": "ipython",
    "version": 2
   },
   "file_extension": ".py",
   "mimetype": "text/x-python",
   "name": "python",
   "nbconvert_exporter": "python",
   "pygments_lexer": "ipython2",
   "version": "2.7.13"
  }
 },
 "nbformat": 4,
 "nbformat_minor": 2
}
