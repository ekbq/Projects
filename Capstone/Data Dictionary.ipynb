{
 "cells": [
  {
   "cell_type": "markdown",
   "metadata": {
    "collapsed": true
   },
   "source": [
    "Quick Recap: \n",
    "\n",
    "- Project was to predict from a corpus of articles which articles are clickbait or not"
   ]
  },
  {
   "cell_type": "markdown",
   "metadata": {},
   "source": [
    "## Data Dictionary\n",
    "\n",
    "### Fields in instances.jsonl\n",
    "\n",
    "<p>\"id\": unique ID of article </p>\n",
    "<p>\"postTimestamp\": timestamp of article. E.g. Thu Dec 01 00:03:59 +0000 2016</p>\n",
    "<p>\"postText\": text of the post with links removed</p>\n",
    "<p>\"postMedia\": path to a file in the media archive (photo)</p>\n",
    "<p>\"targetTitle\": title of target article</p>\n",
    "<p>\"targetDescription\": description tag of target article</p>\n",
    "<p>\"targetKeywords\": keywords tag of target article</p>\n",
    "<p>\"targetParagraphs\": text of the ith paragraph in the target article</p>\n",
    "<p>\"targetCaptions\": caption of the ith image in the target article</p>\n",
    "\n",
    "### Fields in truth.jsonl\n",
    "\n",
    "<p>\"id\": unique ID of article </p>\n",
    "<p>\"truthJudgments\": number in [0,1]</p>\n",
    "<p>\"truthMean\": number in [0,1]</p>\n",
    "<p>\"truthMedian\": number in [0,1]</p>\n",
    "<p>\"truthMode\": number in [0,1]</p>\n",
    "<p>\"truthClass\": rates the article as clickbait or not clickbait</p>"
   ]
  },
  {
   "cell_type": "markdown",
   "metadata": {},
   "source": []
  },
  {
   "cell_type": "code",
   "execution_count": null,
   "metadata": {
    "collapsed": true
   },
   "outputs": [],
   "source": []
  }
 ],
 "metadata": {
  "kernelspec": {
   "display_name": "Python 2",
   "language": "python",
   "name": "python2"
  },
  "language_info": {
   "codemirror_mode": {
    "name": "ipython",
    "version": 2
   },
   "file_extension": ".py",
   "mimetype": "text/x-python",
   "name": "python",
   "nbconvert_exporter": "python",
   "pygments_lexer": "ipython2",
   "version": "2.7.13"
  }
 },
 "nbformat": 4,
 "nbformat_minor": 2
}
